{
 "cells": [
  {
   "cell_type": "code",
   "execution_count": 1,
   "id": "589a58cb-5b9f-4fdc-b81d-21e59551fd35",
   "metadata": {
    "tags": []
   },
   "outputs": [],
   "source": [
    "import openai\n",
    "import pandas as pd\n",
    "import numpy as np\n",
    "import math"
   ]
  },
  {
   "cell_type": "code",
   "execution_count": 2,
   "id": "7a8a213f-2cf2-48ed-95a6-b0281c49be43",
   "metadata": {},
   "outputs": [
    {
     "name": "stdout",
     "output_type": "stream",
     "text": [
      "\u001b[33mWARNING: Skipping /usr/local/lib/python3.11/site-packages/Pygments-2.16.1.dist-info due to invalid metadata entry 'name'\u001b[0m\u001b[33m\n",
      "\u001b[0m\u001b[33mWARNING: Skipping /usr/local/lib/python3.11/site-packages/psutil-5.9.6.dist-info due to invalid metadata entry 'name'\u001b[0m\u001b[33m\n",
      "\u001b[0m\u001b[33mWARNING: Skipping /usr/local/lib/python3.11/site-packages/Pygments-2.16.1.dist-info due to invalid metadata entry 'name'\u001b[0m\u001b[33m\n",
      "\u001b[0m\u001b[33mWARNING: Skipping /usr/local/lib/python3.11/site-packages/psutil-5.9.6.dist-info due to invalid metadata entry 'name'\u001b[0m\u001b[33m\n",
      "\u001b[0m\u001b[33mWARNING: Skipping /usr/local/lib/python3.11/site-packages/certifi-2023.7.22.dist-info due to invalid metadata entry 'name'\u001b[0m\u001b[33m\n",
      "\u001b[0m\u001b[33mDEPRECATION: Loading egg at /usr/local/lib/python3.11/site-packages/avgn-0.1.0-py3.11.egg is deprecated. pip 24.3 will enforce this behaviour change. A possible replacement is to use pip for package installation.. Discussion can be found at https://github.com/pypa/pip/issues/12330\u001b[0m\u001b[33m\n",
      "\u001b[0mRequirement already satisfied: openai in /usr/local/lib/python3.11/site-packages (1.10.0)\n",
      "Requirement already satisfied: anyio<5,>=3.5.0 in /usr/local/lib/python3.11/site-packages (from openai) (3.7.1)\n",
      "Requirement already satisfied: distro<2,>=1.7.0 in /usr/local/lib/python3.11/site-packages (from openai) (1.9.0)\n",
      "Requirement already satisfied: httpx<1,>=0.23.0 in /usr/local/lib/python3.11/site-packages (from openai) (0.26.0)\n",
      "Requirement already satisfied: pydantic<3,>=1.9.0 in /usr/local/lib/python3.11/site-packages (from openai) (1.10.12)\n",
      "Requirement already satisfied: sniffio in /usr/local/lib/python3.11/site-packages (from openai) (1.3.0)\n",
      "Requirement already satisfied: tqdm>4 in /usr/local/lib/python3.11/site-packages (from openai) (4.65.0)\n",
      "Requirement already satisfied: typing-extensions<5,>=4.7 in /usr/local/lib/python3.11/site-packages (from openai) (4.9.0)\n",
      "Requirement already satisfied: idna>=2.8 in /usr/local/lib/python3.11/site-packages (from anyio<5,>=3.5.0->openai) (3.4)\n",
      "Requirement already satisfied: certifi in /usr/local/lib/python3.11/site-packages (from httpx<1,>=0.23.0->openai) (2023.5.7)\n",
      "Requirement already satisfied: httpcore==1.* in /usr/local/lib/python3.11/site-packages (from httpx<1,>=0.23.0->openai) (1.0.2)\n",
      "Requirement already satisfied: h11<0.15,>=0.13 in /usr/local/lib/python3.11/site-packages (from httpcore==1.*->httpx<1,>=0.23.0->openai) (0.14.0)\n",
      "\u001b[33mWARNING: Skipping /usr/local/lib/python3.11/site-packages/Pygments-2.16.1.dist-info due to invalid metadata entry 'name'\u001b[0m\u001b[33m\n",
      "\u001b[0m\u001b[33mWARNING: Skipping /usr/local/lib/python3.11/site-packages/psutil-5.9.6.dist-info due to invalid metadata entry 'name'\u001b[0m\u001b[33m\n",
      "\u001b[0m\u001b[33mWARNING: Skipping /usr/local/lib/python3.11/site-packages/certifi-2023.7.22.dist-info due to invalid metadata entry 'name'\u001b[0m\u001b[33m\n",
      "\u001b[0m\u001b[33mWARNING: Skipping /usr/local/lib/python3.11/site-packages/Pygments-2.16.1.dist-info due to invalid metadata entry 'name'\u001b[0m\u001b[33m\n",
      "\u001b[0m\u001b[33mWARNING: Skipping /usr/local/lib/python3.11/site-packages/psutil-5.9.6.dist-info due to invalid metadata entry 'name'\u001b[0m\u001b[33m\n",
      "\u001b[0m\u001b[33mWARNING: Skipping /usr/local/lib/python3.11/site-packages/Pygments-2.16.1.dist-info due to invalid metadata entry 'name'\u001b[0m\u001b[33m\n",
      "\u001b[0m\u001b[33mWARNING: Skipping /usr/local/lib/python3.11/site-packages/psutil-5.9.6.dist-info due to invalid metadata entry 'name'\u001b[0m\u001b[33m\n",
      "\u001b[0m\u001b[33mWARNING: Skipping /usr/local/lib/python3.11/site-packages/certifi-2023.7.22.dist-info due to invalid metadata entry 'name'\u001b[0m\u001b[33m\n",
      "\u001b[0m\u001b[33mWARNING: Skipping /usr/local/lib/python3.11/site-packages/Pygments-2.16.1.dist-info due to invalid metadata entry 'name'\u001b[0m\u001b[33m\n",
      "\u001b[0m\u001b[33mWARNING: Skipping /usr/local/lib/python3.11/site-packages/psutil-5.9.6.dist-info due to invalid metadata entry 'name'\u001b[0m\u001b[33m\n",
      "\u001b[0m\u001b[33mWARNING: Skipping /usr/local/lib/python3.11/site-packages/certifi-2023.7.22.dist-info due to invalid metadata entry 'name'\u001b[0m\u001b[33m\n",
      "\u001b[0m"
     ]
    }
   ],
   "source": [
    "!pip3 install openai"
   ]
  },
  {
   "cell_type": "markdown",
   "id": "39528cd5-1643-49f9-9702-52792f327947",
   "metadata": {},
   "source": [
    "# Are informal comments more toxic?"
   ]
  },
  {
   "cell_type": "markdown",
   "id": "67bc5adb-a751-44f7-9fb4-6e45bb3b1adf",
   "metadata": {},
   "source": [
    "In this notebook we'll use Marianna Apidianaki's method of calculating interpretable dimensions in semantic vector space on the fly using seed pairs. To start, we want to look at the same dimensions: formality and complexity. But we want to look at the sentence level rather than the word level. "
   ]
  },
  {
   "cell_type": "markdown",
   "id": "e64cd02d-247b-4ed7-aece-9016a3ee1ddc",
   "metadata": {},
   "source": [
    "## Step 1: Generating formality seed pairs\n",
    "\n",
    "We want sevenish pairs of sentences, or really two symmetrical groups of sentences, that can be used to calculate a dimension. "
   ]
  },
  {
   "cell_type": "code",
   "execution_count": 3,
   "id": "52b79f94-e41f-41e9-b776-0b10207066b4",
   "metadata": {
    "tags": []
   },
   "outputs": [
    {
     "data": {
      "text/plain": [
       "['Last week I got into a car accident.',\n",
       " 'She had some amazing news to share but nobody to share it with.',\n",
       " 'Sometime you just have to give up and win by cheating.',\n",
       " 'They desperately needed another drummer since the current one only knew how to play bongos.',\n",
       " 'The bread dough reminded her of Santa Clause’s belly.',\n",
       " 'He realized there had been several deaths on this road, but his concern rose when he saw the exact number.',\n",
       " 'Trash covered the landscape like sprinkles do a birthday cake.']"
      ]
     },
     "execution_count": 3,
     "metadata": {},
     "output_type": "execute_result"
    }
   ],
   "source": [
    "sentences = \"\"\"Last week I got into a car accident.\n",
    "She had some amazing news to share but nobody to share it with.\n",
    "Sometime you just have to give up and win by cheating.\n",
    "They desperately needed another drummer since the current one only knew how to play bongos.\n",
    "The bread dough reminded her of Santa Clause’s belly.\n",
    "He realized there had been several deaths on this road, but his concern rose when he saw the exact number.\n",
    "Trash covered the landscape like sprinkles do a birthday cake.\"\"\"\n",
    "sentences = sentences.split(\"\\n\")\n",
    "sentences"
   ]
  },
  {
   "cell_type": "markdown",
   "id": "4fe446b1-ef07-4030-9eeb-63a0ef9a4c41",
   "metadata": {},
   "source": [
    "### Step 1: Load and use GPT to generate sentences"
   ]
  },
  {
   "cell_type": "code",
   "execution_count": 4,
   "id": "f7a3886f-9fd0-4781-9a94-82542ac05227",
   "metadata": {},
   "outputs": [],
   "source": [
    "from openai import OpenAI\n",
    "client = OpenAI() # OPENAI_API_KEY environment variable must be set. see quickstart tutorial here: https://platform.openai.com/docs/quickstart?context=python\n",
    "\n"
   ]
  },
  {
   "cell_type": "markdown",
   "id": "39baeeff-092f-4b8f-8fde-a95169a56564",
   "metadata": {},
   "source": [
    "Try an example completion"
   ]
  },
  {
   "cell_type": "code",
   "execution_count": 5,
   "id": "d7bef31c-7484-4c27-bdf0-bcf42db8c648",
   "metadata": {
    "tags": []
   },
   "outputs": [],
   "source": [
    "sentence = sentences[0]\n",
    "\n",
    "messages=[\n",
    "    {\"role\": \"system\", \"content\": \"You are a rewording assistant, skilled in transforming a statement to express more or less of a given quality or property.\"},\n",
    "    {\"role\": \"user\", \"content\": \"Rephrase the following statement to use language that is more complex: \\\"{}\\\" .\".format(sentence)}\n",
    "  ]\n"
   ]
  },
  {
   "cell_type": "code",
   "execution_count": 6,
   "id": "6173d14c-9834-4e43-a916-b5baedbd7fce",
   "metadata": {
    "tags": []
   },
   "outputs": [
    {
     "name": "stdout",
     "output_type": "stream",
     "text": [
      "ChatCompletionMessage(content='Last week, I was involved in a motor vehicle collision.', role='assistant', function_call=None, tool_calls=None)\n"
     ]
    }
   ],
   "source": [
    "completion = client.chat.completions.create(\n",
    "  model=\"gpt-3.5-turbo\",\n",
    "  messages=messages\n",
    ")\n",
    "\n",
    "print(completion.choices[0].message)"
   ]
  },
  {
   "cell_type": "code",
   "execution_count": 7,
   "id": "3d93ffd8-86c4-4953-a94c-7d9d5892a373",
   "metadata": {
    "tags": []
   },
   "outputs": [
    {
     "data": {
      "text/plain": [
       "Choice(finish_reason='stop', index=0, logprobs=None, message=ChatCompletionMessage(content='Last week, I was involved in a motor vehicle collision.', role='assistant', function_call=None, tool_calls=None))"
      ]
     },
     "execution_count": 7,
     "metadata": {},
     "output_type": "execute_result"
    }
   ],
   "source": [
    "completion.choices[0]"
   ]
  },
  {
   "cell_type": "markdown",
   "id": "d343e5f5-a508-4b9a-95c9-ad1315e46fae",
   "metadata": {},
   "source": [
    "We'll feed this output back to the api "
   ]
  },
  {
   "cell_type": "code",
   "execution_count": 8,
   "id": "4d63610d-75c2-4125-aeab-f25cb52ef603",
   "metadata": {
    "tags": []
   },
   "outputs": [
    {
     "data": {
      "text/plain": [
       "[{'role': 'system',\n",
       "  'content': 'You are a rewording assistant, skilled in transforming a statement to express more or less of a given quality or property.'},\n",
       " {'role': 'user',\n",
       "  'content': 'Rephrase the following statement to use language that is more complex: \"Last week I got into a car accident.\" .'},\n",
       " {'role': 'system',\n",
       "  'content': 'Last week, I was involved in a motor vehicle collision.'},\n",
       " {'role': 'user',\n",
       "  'content': 'Good. Rephrase the sentence again to use language that is even more complex.'}]"
      ]
     },
     "execution_count": 8,
     "metadata": {},
     "output_type": "execute_result"
    }
   ],
   "source": [
    "messages.append({'role': 'system', 'content': completion.choices[0].message.content})\n",
    "messages.append({\"role\": \"user\", \"content\": \"Good. Rephrase the sentence again to use language that is even more complex.\"})\n",
    "messages"
   ]
  },
  {
   "cell_type": "code",
   "execution_count": 9,
   "id": "b443cea8-8f6d-4157-960a-fe70bdf18788",
   "metadata": {
    "tags": []
   },
   "outputs": [
    {
     "data": {
      "text/plain": [
       "'During the previous week, I found myself embroiled in an unfortunate incident involving a vehicular collision.'"
      ]
     },
     "execution_count": 9,
     "metadata": {},
     "output_type": "execute_result"
    }
   ],
   "source": [
    "def complete(messages):\n",
    "    completion = client.chat.completions.create(\n",
    "      model=\"gpt-3.5-turbo\",\n",
    "      messages=messages,\n",
    "      seed=42\n",
    "    )\n",
    "    return completion.choices[0].message.content\n",
    "\n",
    "complete(messages)"
   ]
  },
  {
   "cell_type": "markdown",
   "id": "a67e271c-6d51-4466-af8e-cad5e1d08146",
   "metadata": {},
   "source": [
    "### prompt templates"
   ]
  },
  {
   "cell_type": "code",
   "execution_count": 10,
   "id": "443760eb-6c3e-4f17-a195-f79d0c18f0c8",
   "metadata": {
    "tags": []
   },
   "outputs": [],
   "source": [
    "# dictionary of the adjectives we use (property adjective and antonym) to create prompts\n",
    "\n",
    "property_dict = {\n",
    "    'complexity':   ('complex', 'simple'),\n",
    "    'emotion':      ('emotional', 'emotionless')\n",
    "}\n"
   ]
  },
  {
   "cell_type": "markdown",
   "id": "607a278d-99de-4e3d-a33a-3ce3df86e8ff",
   "metadata": {},
   "source": [
    "We will generate sentences from a series of templates. For each sentence, we want to generate 'more x', 'even more x', as well as 'less x' and 'even less x'. Because the model often produces longer sentences for 'more' prompts, we also prompt for rephrasings using an antonymous adjective. So, for example, we ask for rephrasings that are \"more complex\" as well as rephrasings that are \"less simple\". We then use all of these rephrasings to calculate the complexity dimension."
   ]
  },
  {
   "cell_type": "code",
   "execution_count": 11,
   "id": "cf12b685-beec-476c-b2e6-b51a4d1ef21f",
   "metadata": {
    "tags": []
   },
   "outputs": [
    {
     "name": "stdout",
     "output_type": "stream",
     "text": [
      "0\n",
      "complex\n",
      "The previous week, I was involved in a vehicular collision.\n",
      "I had a car accident last week.\n",
      "During the preceding week, I found myself embroiled in a motor vehicle collision.\n",
      "I had a crash with my car last week.\n",
      "1\n",
      "simple\n",
      "I had a car crash last week.\n",
      "Last week I was involved in a collision while operating a motor vehicle.\n",
      "I had a car accident last week.\n",
      "During the course of the previous week, I was engaged in a vehicular collision resulting in damage to my automobile.\n",
      "0\n",
      "complex\n",
      "She was in possession of astounding news, yet there was a dearth of individuals with whom she could disseminate it.\n",
      "She had exciting news to tell, but no one to tell it to.\n",
      "She found herself in the possession of awe-inspiring tidings that yearned to be shared, however, she was met with the unfortunate circumstance of not having anyone in her proximity with whom she could partake in the act of disseminating the aforementioned news.\n",
      "She had great news, but no one to tell it to.\n",
      "1\n",
      "simple\n",
      "She had some great news to tell but no one to tell it to.\n",
      "She possessed extraordinary tidings to impart, yet there was a dearth of individuals to whom she could divulge it.\n",
      "She had really good news, but no one to tell it to.\n",
      "She harbored a multitude of astounding revelations to disseminate, however, a conspicuous absence of suitable recipients impeded her ability to do so.\n",
      "0\n",
      "complex\n",
      "Occasionally, one must relinquish and emerge victorious through resorting to dishonest tactics.\n",
      "Sometimes you have no choice but to resort to cheating in order to win.\n",
      "On certain occasions, it becomes necessary to acquiesce and achieve success through the employment of deceitful methods.\n",
      "Sometimes, cheating is the only way to win.\n",
      "1\n",
      "simple\n",
      "Sometimes you just have to cheat to win.\n",
      "Occasionally, one must relinquish and achieve victory through dishonest means.\n",
      "Sometimes you have to cheat to win.\n",
      "On certain occasions, it becomes necessary to concede and attain triumph through the utilization of deceitful tactics.\n",
      "0\n",
      "complex\n",
      "Due to an urgent requirement, an additional percussionist was decidedly crucial, given that the current incumbent's competencies were limited to bongo proficiency alone.\n",
      "They really needed a new drummer because the current one could only play bongos.\n",
      "In light of their acute predicament, it became abundantly clear that the acquisition of an additional percussionist was an utmost necessity, owing to the fact that the current incumbent possessed solely a rudimentary expertise limited exclusively to the realm of bongo playing.\n",
      "They really needed a new drummer because the current one could only play bongos.\n",
      "1\n",
      "simple\n",
      "They really needed a new drummer because the current one could only play bongos.\n",
      "They were in dire need of an additional percussionist as the current one possessed proficiency solely in bongo playing.\n",
      "They really needed a new drummer because the current one could only play bongos.\n",
      "They were in dire straits, desperately requiring the services of another percussionist, as their current one held expertise solely in the realm of bongo instrumentation.\n",
      "0\n",
      "complex\n",
      "The dough of the bread invoked in her mind the image of Santa Claus's rotund midsection.\n",
      "The dough reminded her of Santa's belly.\n",
      "The visage of Santa Claus's ample abdomen was conjured within her thoughts upon encountering the dough that comprised the bread.\n",
      "The dough reminded her of Santa's tummy.\n",
      "1\n",
      "simple\n",
      "The dough reminded her of Santa's belly.\n",
      "The dough of the bread invoked in her mind the image of Santa Claus's rotund midsection.\n",
      "The dough reminded her of Santa's tummy.\n",
      "The visage of Santa Claus's ample abdomen was conjured within her thoughts when she beheld the yeast-infused dough.\n",
      "0\n",
      "complex\n",
      "Upon his realization that numerous fatalities had occurred on this very road, his apprehension heightened exponentially upon witnessing the precise numerical value associated with the loss of life.\n",
      "He found out that there were many deaths on this road, but he became more worried when he saw the specific number.\n",
      "Upon his cognitive awareness of the manifold instances of mortality that had transpired along this particular thoroughfare, his trepidation and unease reached an elevated magnitude as he bore witness to the unequivocal figure denoting the irrevocable toll on human existence.\n",
      "He learned that there were a lot of deaths on this road, but he got more worried when he saw the exact number.\n",
      "1\n",
      "simple\n",
      "He found out that many people had died on this road, but he became even more worried when he saw the specific number.\n",
      "He became aware that there had been numerous fatalities on this road, but his anxiety heightened when he witnessed the precise tally.\n",
      "He learned that many people had died on this road, but he got even more worried when he saw the exact number.\n",
      "His awareness dawned that there had been a multitude of mortalities on this thoroughfare, however, his apprehension escalated exponentially upon witnessing the precise numerical magnitude.\n",
      "0\n",
      "complex\n",
      "The landscape was engulfed by an overwhelming abundance of trash, much like the way sprinkles adorn and enhance the appearance of a birthday cake.\n",
      "The landscape was filled with trash just like sprinkles on a birthday cake.\n",
      "The unforgiving expanse of the landscape was utterly subdued by an unrelenting deluge of discarded waste, echoing the way in which the delicate, vibrant sprinkles meticulously bedeck and enliven the surface of a meticulously crafted birthday cake.\n",
      "The landscape had a lot of trash, like sprinkles on a birthday cake.\n",
      "1\n",
      "simple\n",
      "The landscape was filled with trash just like sprinkles on a birthday cake.\n",
      "The landscape was engulfed in garbage, resembling the way sprinkles decorate a birthday cake.\n",
      "The landscape had a lot of trash, like sprinkles on a birthday cake.\n",
      "The vast expanse of land was inundated with copious amounts of refuse, mirroring the manner in which a profusion of sprinkles adorns a celebratory birthday cake.\n"
     ]
    },
    {
     "data": {
      "text/html": [
       "<div>\n",
       "<style scoped>\n",
       "    .dataframe tbody tr th:only-of-type {\n",
       "        vertical-align: middle;\n",
       "    }\n",
       "\n",
       "    .dataframe tbody tr th {\n",
       "        vertical-align: top;\n",
       "    }\n",
       "\n",
       "    .dataframe thead th {\n",
       "        text-align: right;\n",
       "    }\n",
       "</style>\n",
       "<table border=\"1\" class=\"dataframe\">\n",
       "  <thead>\n",
       "    <tr style=\"text-align: right;\">\n",
       "      <th></th>\n",
       "      <th>sentence</th>\n",
       "      <th>text1</th>\n",
       "      <th>text2</th>\n",
       "      <th>more</th>\n",
       "      <th>even_more</th>\n",
       "      <th>less</th>\n",
       "      <th>even_less</th>\n",
       "      <th>property</th>\n",
       "      <th>adjective</th>\n",
       "      <th>antonym?</th>\n",
       "    </tr>\n",
       "  </thead>\n",
       "  <tbody>\n",
       "    <tr>\n",
       "      <th>0</th>\n",
       "      <td>Last week I got into a car accident.</td>\n",
       "      <td>The previous week, I was involved in a vehicul...</td>\n",
       "      <td>I had a car accident last week.</td>\n",
       "      <td>1</td>\n",
       "      <td>0</td>\n",
       "      <td>1</td>\n",
       "      <td>0</td>\n",
       "      <td>complexity</td>\n",
       "      <td>complex</td>\n",
       "      <td>0</td>\n",
       "    </tr>\n",
       "    <tr>\n",
       "      <th>1</th>\n",
       "      <td>Last week I got into a car accident.</td>\n",
       "      <td>During the preceding week, I found myself embr...</td>\n",
       "      <td>I had a crash with my car last week.</td>\n",
       "      <td>0</td>\n",
       "      <td>1</td>\n",
       "      <td>0</td>\n",
       "      <td>1</td>\n",
       "      <td>complexity</td>\n",
       "      <td>complex</td>\n",
       "      <td>0</td>\n",
       "    </tr>\n",
       "    <tr>\n",
       "      <th>2</th>\n",
       "      <td>Last week I got into a car accident.</td>\n",
       "      <td>I had a car crash last week.</td>\n",
       "      <td>Last week I was involved in a collision while ...</td>\n",
       "      <td>1</td>\n",
       "      <td>0</td>\n",
       "      <td>1</td>\n",
       "      <td>0</td>\n",
       "      <td>complexity</td>\n",
       "      <td>simple</td>\n",
       "      <td>1</td>\n",
       "    </tr>\n",
       "    <tr>\n",
       "      <th>3</th>\n",
       "      <td>Last week I got into a car accident.</td>\n",
       "      <td>I had a car accident last week.</td>\n",
       "      <td>During the course of the previous week, I was ...</td>\n",
       "      <td>0</td>\n",
       "      <td>1</td>\n",
       "      <td>0</td>\n",
       "      <td>1</td>\n",
       "      <td>complexity</td>\n",
       "      <td>simple</td>\n",
       "      <td>1</td>\n",
       "    </tr>\n",
       "    <tr>\n",
       "      <th>4</th>\n",
       "      <td>She had some amazing news to share but nobody ...</td>\n",
       "      <td>She was in possession of astounding news, yet ...</td>\n",
       "      <td>She had exciting news to tell, but no one to t...</td>\n",
       "      <td>1</td>\n",
       "      <td>0</td>\n",
       "      <td>1</td>\n",
       "      <td>0</td>\n",
       "      <td>complexity</td>\n",
       "      <td>complex</td>\n",
       "      <td>0</td>\n",
       "    </tr>\n",
       "    <tr>\n",
       "      <th>5</th>\n",
       "      <td>She had some amazing news to share but nobody ...</td>\n",
       "      <td>She found herself in the possession of awe-ins...</td>\n",
       "      <td>She had great news, but no one to tell it to.</td>\n",
       "      <td>0</td>\n",
       "      <td>1</td>\n",
       "      <td>0</td>\n",
       "      <td>1</td>\n",
       "      <td>complexity</td>\n",
       "      <td>complex</td>\n",
       "      <td>0</td>\n",
       "    </tr>\n",
       "    <tr>\n",
       "      <th>6</th>\n",
       "      <td>She had some amazing news to share but nobody ...</td>\n",
       "      <td>She had some great news to tell but no one to ...</td>\n",
       "      <td>She possessed extraordinary tidings to impart,...</td>\n",
       "      <td>1</td>\n",
       "      <td>0</td>\n",
       "      <td>1</td>\n",
       "      <td>0</td>\n",
       "      <td>complexity</td>\n",
       "      <td>simple</td>\n",
       "      <td>1</td>\n",
       "    </tr>\n",
       "    <tr>\n",
       "      <th>7</th>\n",
       "      <td>She had some amazing news to share but nobody ...</td>\n",
       "      <td>She had really good news, but no one to tell i...</td>\n",
       "      <td>She harbored a multitude of astounding revelat...</td>\n",
       "      <td>0</td>\n",
       "      <td>1</td>\n",
       "      <td>0</td>\n",
       "      <td>1</td>\n",
       "      <td>complexity</td>\n",
       "      <td>simple</td>\n",
       "      <td>1</td>\n",
       "    </tr>\n",
       "    <tr>\n",
       "      <th>8</th>\n",
       "      <td>Sometime you just have to give up and win by c...</td>\n",
       "      <td>Occasionally, one must relinquish and emerge v...</td>\n",
       "      <td>Sometimes you have no choice but to resort to ...</td>\n",
       "      <td>1</td>\n",
       "      <td>0</td>\n",
       "      <td>1</td>\n",
       "      <td>0</td>\n",
       "      <td>complexity</td>\n",
       "      <td>complex</td>\n",
       "      <td>0</td>\n",
       "    </tr>\n",
       "    <tr>\n",
       "      <th>9</th>\n",
       "      <td>Sometime you just have to give up and win by c...</td>\n",
       "      <td>On certain occasions, it becomes necessary to ...</td>\n",
       "      <td>Sometimes, cheating is the only way to win.</td>\n",
       "      <td>0</td>\n",
       "      <td>1</td>\n",
       "      <td>0</td>\n",
       "      <td>1</td>\n",
       "      <td>complexity</td>\n",
       "      <td>complex</td>\n",
       "      <td>0</td>\n",
       "    </tr>\n",
       "    <tr>\n",
       "      <th>10</th>\n",
       "      <td>Sometime you just have to give up and win by c...</td>\n",
       "      <td>Sometimes you just have to cheat to win.</td>\n",
       "      <td>Occasionally, one must relinquish and achieve ...</td>\n",
       "      <td>1</td>\n",
       "      <td>0</td>\n",
       "      <td>1</td>\n",
       "      <td>0</td>\n",
       "      <td>complexity</td>\n",
       "      <td>simple</td>\n",
       "      <td>1</td>\n",
       "    </tr>\n",
       "    <tr>\n",
       "      <th>11</th>\n",
       "      <td>Sometime you just have to give up and win by c...</td>\n",
       "      <td>Sometimes you have to cheat to win.</td>\n",
       "      <td>On certain occasions, it becomes necessary to ...</td>\n",
       "      <td>0</td>\n",
       "      <td>1</td>\n",
       "      <td>0</td>\n",
       "      <td>1</td>\n",
       "      <td>complexity</td>\n",
       "      <td>simple</td>\n",
       "      <td>1</td>\n",
       "    </tr>\n",
       "    <tr>\n",
       "      <th>12</th>\n",
       "      <td>They desperately needed another drummer since ...</td>\n",
       "      <td>Due to an urgent requirement, an additional pe...</td>\n",
       "      <td>They really needed a new drummer because the c...</td>\n",
       "      <td>1</td>\n",
       "      <td>0</td>\n",
       "      <td>1</td>\n",
       "      <td>0</td>\n",
       "      <td>complexity</td>\n",
       "      <td>complex</td>\n",
       "      <td>0</td>\n",
       "    </tr>\n",
       "    <tr>\n",
       "      <th>13</th>\n",
       "      <td>They desperately needed another drummer since ...</td>\n",
       "      <td>In light of their acute predicament, it became...</td>\n",
       "      <td>They really needed a new drummer because the c...</td>\n",
       "      <td>0</td>\n",
       "      <td>1</td>\n",
       "      <td>0</td>\n",
       "      <td>1</td>\n",
       "      <td>complexity</td>\n",
       "      <td>complex</td>\n",
       "      <td>0</td>\n",
       "    </tr>\n",
       "    <tr>\n",
       "      <th>14</th>\n",
       "      <td>They desperately needed another drummer since ...</td>\n",
       "      <td>They really needed a new drummer because the c...</td>\n",
       "      <td>They were in dire need of an additional percus...</td>\n",
       "      <td>1</td>\n",
       "      <td>0</td>\n",
       "      <td>1</td>\n",
       "      <td>0</td>\n",
       "      <td>complexity</td>\n",
       "      <td>simple</td>\n",
       "      <td>1</td>\n",
       "    </tr>\n",
       "    <tr>\n",
       "      <th>15</th>\n",
       "      <td>They desperately needed another drummer since ...</td>\n",
       "      <td>They really needed a new drummer because the c...</td>\n",
       "      <td>They were in dire straits, desperately requiri...</td>\n",
       "      <td>0</td>\n",
       "      <td>1</td>\n",
       "      <td>0</td>\n",
       "      <td>1</td>\n",
       "      <td>complexity</td>\n",
       "      <td>simple</td>\n",
       "      <td>1</td>\n",
       "    </tr>\n",
       "    <tr>\n",
       "      <th>16</th>\n",
       "      <td>The bread dough reminded her of Santa Clause’s...</td>\n",
       "      <td>The dough of the bread invoked in her mind the...</td>\n",
       "      <td>The dough reminded her of Santa's belly.</td>\n",
       "      <td>1</td>\n",
       "      <td>0</td>\n",
       "      <td>1</td>\n",
       "      <td>0</td>\n",
       "      <td>complexity</td>\n",
       "      <td>complex</td>\n",
       "      <td>0</td>\n",
       "    </tr>\n",
       "    <tr>\n",
       "      <th>17</th>\n",
       "      <td>The bread dough reminded her of Santa Clause’s...</td>\n",
       "      <td>The visage of Santa Claus's ample abdomen was ...</td>\n",
       "      <td>The dough reminded her of Santa's tummy.</td>\n",
       "      <td>0</td>\n",
       "      <td>1</td>\n",
       "      <td>0</td>\n",
       "      <td>1</td>\n",
       "      <td>complexity</td>\n",
       "      <td>complex</td>\n",
       "      <td>0</td>\n",
       "    </tr>\n",
       "    <tr>\n",
       "      <th>18</th>\n",
       "      <td>The bread dough reminded her of Santa Clause’s...</td>\n",
       "      <td>The dough reminded her of Santa's belly.</td>\n",
       "      <td>The dough of the bread invoked in her mind the...</td>\n",
       "      <td>1</td>\n",
       "      <td>0</td>\n",
       "      <td>1</td>\n",
       "      <td>0</td>\n",
       "      <td>complexity</td>\n",
       "      <td>simple</td>\n",
       "      <td>1</td>\n",
       "    </tr>\n",
       "    <tr>\n",
       "      <th>19</th>\n",
       "      <td>The bread dough reminded her of Santa Clause’s...</td>\n",
       "      <td>The dough reminded her of Santa's tummy.</td>\n",
       "      <td>The visage of Santa Claus's ample abdomen was ...</td>\n",
       "      <td>0</td>\n",
       "      <td>1</td>\n",
       "      <td>0</td>\n",
       "      <td>1</td>\n",
       "      <td>complexity</td>\n",
       "      <td>simple</td>\n",
       "      <td>1</td>\n",
       "    </tr>\n",
       "    <tr>\n",
       "      <th>20</th>\n",
       "      <td>He realized there had been several deaths on t...</td>\n",
       "      <td>Upon his realization that numerous fatalities ...</td>\n",
       "      <td>He found out that there were many deaths on th...</td>\n",
       "      <td>1</td>\n",
       "      <td>0</td>\n",
       "      <td>1</td>\n",
       "      <td>0</td>\n",
       "      <td>complexity</td>\n",
       "      <td>complex</td>\n",
       "      <td>0</td>\n",
       "    </tr>\n",
       "    <tr>\n",
       "      <th>21</th>\n",
       "      <td>He realized there had been several deaths on t...</td>\n",
       "      <td>Upon his cognitive awareness of the manifold i...</td>\n",
       "      <td>He learned that there were a lot of deaths on ...</td>\n",
       "      <td>0</td>\n",
       "      <td>1</td>\n",
       "      <td>0</td>\n",
       "      <td>1</td>\n",
       "      <td>complexity</td>\n",
       "      <td>complex</td>\n",
       "      <td>0</td>\n",
       "    </tr>\n",
       "    <tr>\n",
       "      <th>22</th>\n",
       "      <td>He realized there had been several deaths on t...</td>\n",
       "      <td>He found out that many people had died on this...</td>\n",
       "      <td>He became aware that there had been numerous f...</td>\n",
       "      <td>1</td>\n",
       "      <td>0</td>\n",
       "      <td>1</td>\n",
       "      <td>0</td>\n",
       "      <td>complexity</td>\n",
       "      <td>simple</td>\n",
       "      <td>1</td>\n",
       "    </tr>\n",
       "    <tr>\n",
       "      <th>23</th>\n",
       "      <td>He realized there had been several deaths on t...</td>\n",
       "      <td>He learned that many people had died on this r...</td>\n",
       "      <td>His awareness dawned that there had been a mul...</td>\n",
       "      <td>0</td>\n",
       "      <td>1</td>\n",
       "      <td>0</td>\n",
       "      <td>1</td>\n",
       "      <td>complexity</td>\n",
       "      <td>simple</td>\n",
       "      <td>1</td>\n",
       "    </tr>\n",
       "    <tr>\n",
       "      <th>24</th>\n",
       "      <td>Trash covered the landscape like sprinkles do ...</td>\n",
       "      <td>The landscape was engulfed by an overwhelming ...</td>\n",
       "      <td>The landscape was filled with trash just like ...</td>\n",
       "      <td>1</td>\n",
       "      <td>0</td>\n",
       "      <td>1</td>\n",
       "      <td>0</td>\n",
       "      <td>complexity</td>\n",
       "      <td>complex</td>\n",
       "      <td>0</td>\n",
       "    </tr>\n",
       "    <tr>\n",
       "      <th>25</th>\n",
       "      <td>Trash covered the landscape like sprinkles do ...</td>\n",
       "      <td>The unforgiving expanse of the landscape was u...</td>\n",
       "      <td>The landscape had a lot of trash, like sprinkl...</td>\n",
       "      <td>0</td>\n",
       "      <td>1</td>\n",
       "      <td>0</td>\n",
       "      <td>1</td>\n",
       "      <td>complexity</td>\n",
       "      <td>complex</td>\n",
       "      <td>0</td>\n",
       "    </tr>\n",
       "    <tr>\n",
       "      <th>26</th>\n",
       "      <td>Trash covered the landscape like sprinkles do ...</td>\n",
       "      <td>The landscape was filled with trash just like ...</td>\n",
       "      <td>The landscape was engulfed in garbage, resembl...</td>\n",
       "      <td>1</td>\n",
       "      <td>0</td>\n",
       "      <td>1</td>\n",
       "      <td>0</td>\n",
       "      <td>complexity</td>\n",
       "      <td>simple</td>\n",
       "      <td>1</td>\n",
       "    </tr>\n",
       "    <tr>\n",
       "      <th>27</th>\n",
       "      <td>Trash covered the landscape like sprinkles do ...</td>\n",
       "      <td>The landscape had a lot of trash, like sprinkl...</td>\n",
       "      <td>The vast expanse of land was inundated with co...</td>\n",
       "      <td>0</td>\n",
       "      <td>1</td>\n",
       "      <td>0</td>\n",
       "      <td>1</td>\n",
       "      <td>complexity</td>\n",
       "      <td>simple</td>\n",
       "      <td>1</td>\n",
       "    </tr>\n",
       "  </tbody>\n",
       "</table>\n",
       "</div>"
      ],
      "text/plain": [
       "                                             sentence  \\\n",
       "0                Last week I got into a car accident.   \n",
       "1                Last week I got into a car accident.   \n",
       "2                Last week I got into a car accident.   \n",
       "3                Last week I got into a car accident.   \n",
       "4   She had some amazing news to share but nobody ...   \n",
       "5   She had some amazing news to share but nobody ...   \n",
       "6   She had some amazing news to share but nobody ...   \n",
       "7   She had some amazing news to share but nobody ...   \n",
       "8   Sometime you just have to give up and win by c...   \n",
       "9   Sometime you just have to give up and win by c...   \n",
       "10  Sometime you just have to give up and win by c...   \n",
       "11  Sometime you just have to give up and win by c...   \n",
       "12  They desperately needed another drummer since ...   \n",
       "13  They desperately needed another drummer since ...   \n",
       "14  They desperately needed another drummer since ...   \n",
       "15  They desperately needed another drummer since ...   \n",
       "16  The bread dough reminded her of Santa Clause’s...   \n",
       "17  The bread dough reminded her of Santa Clause’s...   \n",
       "18  The bread dough reminded her of Santa Clause’s...   \n",
       "19  The bread dough reminded her of Santa Clause’s...   \n",
       "20  He realized there had been several deaths on t...   \n",
       "21  He realized there had been several deaths on t...   \n",
       "22  He realized there had been several deaths on t...   \n",
       "23  He realized there had been several deaths on t...   \n",
       "24  Trash covered the landscape like sprinkles do ...   \n",
       "25  Trash covered the landscape like sprinkles do ...   \n",
       "26  Trash covered the landscape like sprinkles do ...   \n",
       "27  Trash covered the landscape like sprinkles do ...   \n",
       "\n",
       "                                                text1  \\\n",
       "0   The previous week, I was involved in a vehicul...   \n",
       "1   During the preceding week, I found myself embr...   \n",
       "2                        I had a car crash last week.   \n",
       "3                     I had a car accident last week.   \n",
       "4   She was in possession of astounding news, yet ...   \n",
       "5   She found herself in the possession of awe-ins...   \n",
       "6   She had some great news to tell but no one to ...   \n",
       "7   She had really good news, but no one to tell i...   \n",
       "8   Occasionally, one must relinquish and emerge v...   \n",
       "9   On certain occasions, it becomes necessary to ...   \n",
       "10           Sometimes you just have to cheat to win.   \n",
       "11                Sometimes you have to cheat to win.   \n",
       "12  Due to an urgent requirement, an additional pe...   \n",
       "13  In light of their acute predicament, it became...   \n",
       "14  They really needed a new drummer because the c...   \n",
       "15  They really needed a new drummer because the c...   \n",
       "16  The dough of the bread invoked in her mind the...   \n",
       "17  The visage of Santa Claus's ample abdomen was ...   \n",
       "18           The dough reminded her of Santa's belly.   \n",
       "19           The dough reminded her of Santa's tummy.   \n",
       "20  Upon his realization that numerous fatalities ...   \n",
       "21  Upon his cognitive awareness of the manifold i...   \n",
       "22  He found out that many people had died on this...   \n",
       "23  He learned that many people had died on this r...   \n",
       "24  The landscape was engulfed by an overwhelming ...   \n",
       "25  The unforgiving expanse of the landscape was u...   \n",
       "26  The landscape was filled with trash just like ...   \n",
       "27  The landscape had a lot of trash, like sprinkl...   \n",
       "\n",
       "                                                text2  more  even_more  less  \\\n",
       "0                     I had a car accident last week.     1          0     1   \n",
       "1                I had a crash with my car last week.     0          1     0   \n",
       "2   Last week I was involved in a collision while ...     1          0     1   \n",
       "3   During the course of the previous week, I was ...     0          1     0   \n",
       "4   She had exciting news to tell, but no one to t...     1          0     1   \n",
       "5       She had great news, but no one to tell it to.     0          1     0   \n",
       "6   She possessed extraordinary tidings to impart,...     1          0     1   \n",
       "7   She harbored a multitude of astounding revelat...     0          1     0   \n",
       "8   Sometimes you have no choice but to resort to ...     1          0     1   \n",
       "9         Sometimes, cheating is the only way to win.     0          1     0   \n",
       "10  Occasionally, one must relinquish and achieve ...     1          0     1   \n",
       "11  On certain occasions, it becomes necessary to ...     0          1     0   \n",
       "12  They really needed a new drummer because the c...     1          0     1   \n",
       "13  They really needed a new drummer because the c...     0          1     0   \n",
       "14  They were in dire need of an additional percus...     1          0     1   \n",
       "15  They were in dire straits, desperately requiri...     0          1     0   \n",
       "16           The dough reminded her of Santa's belly.     1          0     1   \n",
       "17           The dough reminded her of Santa's tummy.     0          1     0   \n",
       "18  The dough of the bread invoked in her mind the...     1          0     1   \n",
       "19  The visage of Santa Claus's ample abdomen was ...     0          1     0   \n",
       "20  He found out that there were many deaths on th...     1          0     1   \n",
       "21  He learned that there were a lot of deaths on ...     0          1     0   \n",
       "22  He became aware that there had been numerous f...     1          0     1   \n",
       "23  His awareness dawned that there had been a mul...     0          1     0   \n",
       "24  The landscape was filled with trash just like ...     1          0     1   \n",
       "25  The landscape had a lot of trash, like sprinkl...     0          1     0   \n",
       "26  The landscape was engulfed in garbage, resembl...     1          0     1   \n",
       "27  The vast expanse of land was inundated with co...     0          1     0   \n",
       "\n",
       "    even_less    property adjective  antonym?  \n",
       "0           0  complexity   complex         0  \n",
       "1           1  complexity   complex         0  \n",
       "2           0  complexity    simple         1  \n",
       "3           1  complexity    simple         1  \n",
       "4           0  complexity   complex         0  \n",
       "5           1  complexity   complex         0  \n",
       "6           0  complexity    simple         1  \n",
       "7           1  complexity    simple         1  \n",
       "8           0  complexity   complex         0  \n",
       "9           1  complexity   complex         0  \n",
       "10          0  complexity    simple         1  \n",
       "11          1  complexity    simple         1  \n",
       "12          0  complexity   complex         0  \n",
       "13          1  complexity   complex         0  \n",
       "14          0  complexity    simple         1  \n",
       "15          1  complexity    simple         1  \n",
       "16          0  complexity   complex         0  \n",
       "17          1  complexity   complex         0  \n",
       "18          0  complexity    simple         1  \n",
       "19          1  complexity    simple         1  \n",
       "20          0  complexity   complex         0  \n",
       "21          1  complexity   complex         0  \n",
       "22          0  complexity    simple         1  \n",
       "23          1  complexity    simple         1  \n",
       "24          0  complexity   complex         0  \n",
       "25          1  complexity   complex         0  \n",
       "26          0  complexity    simple         1  \n",
       "27          1  complexity    simple         1  "
      ]
     },
     "execution_count": 11,
     "metadata": {},
     "output_type": "execute_result"
    }
   ],
   "source": [
    "# TODO save 5 responses instead of 1\n",
    "\n",
    "\n",
    "adj, antonym = property_dict['complexity']\n",
    "\n",
    "data = []\n",
    "\n",
    "for sent in sentences:\n",
    "\n",
    "    for i, x in enumerate([adj, antonym]):\n",
    "        print(i)\n",
    "        print(x)\n",
    "        messages=[\n",
    "            {\"role\": \"system\", \"content\": \"You are a rewording assistant, skilled in transforming a statement to express more or less of a given quality or property.\"},\n",
    "        ]\n",
    "\n",
    "        \n",
    "        # more\n",
    "        more_messages = messages + [{\"role\": \"user\", \"content\": \"Rephrase the following statement to use language that is more {}: \\\"{}\\\" .\".format(x,sent)}]\n",
    "        more = complete(more_messages)\n",
    "        print(more)\n",
    "        \n",
    "        # less\n",
    "        less_messages = messages + [{\"role\": \"user\", \"content\": \"Rephrase the following statement to use language that is less {}: \\\"{}\\\" .\".format(x,sent)}]\n",
    "        less = complete(less_messages)\n",
    "        print(less)\n",
    "        \n",
    "        row = {\n",
    "             'sentence': sent,\n",
    "             'text1': more,\n",
    "             'text2': less,\n",
    "             'more': 1,\n",
    "             'even_more': 0,\n",
    "             'less': 1,\n",
    "             'even_less':  0,\n",
    "             'property': 'complexity',\n",
    "             'adjective': x,\n",
    "             'antonym?': 0 if i == 0 else 1 # the second in the pair is the antonym\n",
    "        }\n",
    "        data.append(row)\n",
    "                \n",
    "        # even more\n",
    "        even_more_messages = more_messages + [{\"role\": \"system\", \"content\": more}] + [{\"role\": \"user\", \"content\": \"Good. Rephrase the sentence again to use language that is even more {}.\".format(x)}]\n",
    "        even_more = complete(even_more_messages)\n",
    "        print(even_more)\n",
    "        \n",
    "        # even less\n",
    "        even_less_messages = less_messages + [{\"role\": \"system\", \"content\": less}] + [{\"role\": \"user\", \"content\": \"Good. Rephrase the sentence again to use language that is even less {}.\".format(x)}]\n",
    "        even_less = complete(even_less_messages)\n",
    "        print(even_less)\n",
    "        \n",
    "        row = {\n",
    "             'sentence': sent,\n",
    "             'text1': even_more,\n",
    "             'text2': even_less,\n",
    "             'more': 0,\n",
    "             'even_more': 1,\n",
    "             'less': 0,\n",
    "             'even_less':  1,\n",
    "             'property': 'complexity',\n",
    "             'adjective': x,\n",
    "             'antonym?': 0 if i == 0 else 1 # the second in the pair is the antonym\n",
    "        }\n",
    "        data.append(row)\n",
    "\n",
    "        # TODO even even more\n",
    "\n",
    "\n",
    "    \n",
    "df = pd.DataFrame.from_records(data)\n",
    "df"
   ]
  },
  {
   "cell_type": "markdown",
   "id": "d1b25f89-ab88-465e-ace6-2aec86468b4d",
   "metadata": {},
   "source": [
    "Save so we don't have to query the api every time"
   ]
  },
  {
   "cell_type": "code",
   "execution_count": 12,
   "id": "a9085cb6-5312-4702-9341-3361cf5b3e2b",
   "metadata": {},
   "outputs": [],
   "source": [
    "df.to_csv('make_it_more_complexity_pilot_seed_sentences.csv')"
   ]
  },
  {
   "cell_type": "markdown",
   "id": "b83b7bb7-525d-431b-8fd5-edfa97a43fa0",
   "metadata": {},
   "source": [
    "## Step 2: Calculating the formality dimension\n",
    "\n"
   ]
  },
  {
   "cell_type": "code",
   "execution_count": 13,
   "id": "f523f9c0-24dd-418d-86a6-ec53d765f9a2",
   "metadata": {},
   "outputs": [],
   "source": [
    "df = pd.read_csv('make_it_more_complexity_pilot_seed_sentences.csv')"
   ]
  },
  {
   "cell_type": "markdown",
   "id": "30fd9466-fe30-49f1-ae00-d4f997d50553",
   "metadata": {},
   "source": [
    "Now that we have our seed sentences for the complexity dimension, we need to get the vector differences for the seed pairs.\n",
    "\n",
    "We generated 8 sentences for each original seed sentence, meaning we have four seed pairs.\n",
    "\n",
    "The formulas for the four seed pairs are as follows:\n",
    "\n",
    "- ( adjective + more ) - (adjective + less)\n",
    "- ( adjective + even more ) - (adjective + even less)\n",
    "- ( antonym + less ) - (antonym + more )\n",
    "- ( antonym + even less ) - (antonym + even more )\n",
    "\n",
    "First we get an embedding for both complementary sentences in each row (text1 and text2). Then, for each seed sentence we calculate these four formulae to get the vector differences. And then we average those together. "
   ]
  },
  {
   "cell_type": "code",
   "execution_count": 14,
   "id": "4b334804-1706-4470-84b1-822400f96bc7",
   "metadata": {},
   "outputs": [
    {
     "data": {
      "text/html": [
       "<div>\n",
       "<style scoped>\n",
       "    .dataframe tbody tr th:only-of-type {\n",
       "        vertical-align: middle;\n",
       "    }\n",
       "\n",
       "    .dataframe tbody tr th {\n",
       "        vertical-align: top;\n",
       "    }\n",
       "\n",
       "    .dataframe thead th {\n",
       "        text-align: right;\n",
       "    }\n",
       "</style>\n",
       "<table border=\"1\" class=\"dataframe\">\n",
       "  <thead>\n",
       "    <tr style=\"text-align: right;\">\n",
       "      <th></th>\n",
       "      <th>Unnamed: 0</th>\n",
       "      <th>sentence</th>\n",
       "      <th>text1</th>\n",
       "      <th>text2</th>\n",
       "      <th>more</th>\n",
       "      <th>even_more</th>\n",
       "      <th>less</th>\n",
       "      <th>even_less</th>\n",
       "      <th>property</th>\n",
       "      <th>adjective</th>\n",
       "      <th>antonym?</th>\n",
       "    </tr>\n",
       "  </thead>\n",
       "  <tbody>\n",
       "    <tr>\n",
       "      <th>0</th>\n",
       "      <td>0</td>\n",
       "      <td>Last week I got into a car accident.</td>\n",
       "      <td>The previous week, I was involved in a vehicul...</td>\n",
       "      <td>I had a car accident last week.</td>\n",
       "      <td>1</td>\n",
       "      <td>0</td>\n",
       "      <td>1</td>\n",
       "      <td>0</td>\n",
       "      <td>complexity</td>\n",
       "      <td>complex</td>\n",
       "      <td>0</td>\n",
       "    </tr>\n",
       "    <tr>\n",
       "      <th>1</th>\n",
       "      <td>1</td>\n",
       "      <td>Last week I got into a car accident.</td>\n",
       "      <td>During the preceding week, I found myself embr...</td>\n",
       "      <td>I had a crash with my car last week.</td>\n",
       "      <td>0</td>\n",
       "      <td>1</td>\n",
       "      <td>0</td>\n",
       "      <td>1</td>\n",
       "      <td>complexity</td>\n",
       "      <td>complex</td>\n",
       "      <td>0</td>\n",
       "    </tr>\n",
       "    <tr>\n",
       "      <th>2</th>\n",
       "      <td>2</td>\n",
       "      <td>Last week I got into a car accident.</td>\n",
       "      <td>I had a car crash last week.</td>\n",
       "      <td>Last week I was involved in a collision while ...</td>\n",
       "      <td>1</td>\n",
       "      <td>0</td>\n",
       "      <td>1</td>\n",
       "      <td>0</td>\n",
       "      <td>complexity</td>\n",
       "      <td>simple</td>\n",
       "      <td>1</td>\n",
       "    </tr>\n",
       "    <tr>\n",
       "      <th>3</th>\n",
       "      <td>3</td>\n",
       "      <td>Last week I got into a car accident.</td>\n",
       "      <td>I had a car accident last week.</td>\n",
       "      <td>During the course of the previous week, I was ...</td>\n",
       "      <td>0</td>\n",
       "      <td>1</td>\n",
       "      <td>0</td>\n",
       "      <td>1</td>\n",
       "      <td>complexity</td>\n",
       "      <td>simple</td>\n",
       "      <td>1</td>\n",
       "    </tr>\n",
       "    <tr>\n",
       "      <th>4</th>\n",
       "      <td>4</td>\n",
       "      <td>She had some amazing news to share but nobody ...</td>\n",
       "      <td>She was in possession of astounding news, yet ...</td>\n",
       "      <td>She had exciting news to tell, but no one to t...</td>\n",
       "      <td>1</td>\n",
       "      <td>0</td>\n",
       "      <td>1</td>\n",
       "      <td>0</td>\n",
       "      <td>complexity</td>\n",
       "      <td>complex</td>\n",
       "      <td>0</td>\n",
       "    </tr>\n",
       "  </tbody>\n",
       "</table>\n",
       "</div>"
      ],
      "text/plain": [
       "   Unnamed: 0                                           sentence  \\\n",
       "0           0               Last week I got into a car accident.   \n",
       "1           1               Last week I got into a car accident.   \n",
       "2           2               Last week I got into a car accident.   \n",
       "3           3               Last week I got into a car accident.   \n",
       "4           4  She had some amazing news to share but nobody ...   \n",
       "\n",
       "                                               text1  \\\n",
       "0  The previous week, I was involved in a vehicul...   \n",
       "1  During the preceding week, I found myself embr...   \n",
       "2                       I had a car crash last week.   \n",
       "3                    I had a car accident last week.   \n",
       "4  She was in possession of astounding news, yet ...   \n",
       "\n",
       "                                               text2  more  even_more  less  \\\n",
       "0                    I had a car accident last week.     1          0     1   \n",
       "1               I had a crash with my car last week.     0          1     0   \n",
       "2  Last week I was involved in a collision while ...     1          0     1   \n",
       "3  During the course of the previous week, I was ...     0          1     0   \n",
       "4  She had exciting news to tell, but no one to t...     1          0     1   \n",
       "\n",
       "   even_less    property adjective  antonym?  \n",
       "0          0  complexity   complex         0  \n",
       "1          1  complexity   complex         0  \n",
       "2          0  complexity    simple         1  \n",
       "3          1  complexity    simple         1  \n",
       "4          0  complexity   complex         0  "
      ]
     },
     "execution_count": 14,
     "metadata": {},
     "output_type": "execute_result"
    }
   ],
   "source": [
    "df.head(5)"
   ]
  },
  {
   "cell_type": "markdown",
   "id": "fd83119a-86ad-4d05-a3ac-c0475cee9a72",
   "metadata": {},
   "source": [
    "--NOPE__So now that we have our seed sentences for the complexity dimension, we need to split them into negative and positive sentences. The generated sentences should be divided as follows.\n",
    "\n",
    "Positive\n",
    "- adjective + more\n",
    "- adjective + even more\n",
    "- antonym + less\n",
    "- antonym + even less\n",
    "\n",
    "Negative\n",
    "- adjective + less\n",
    "- adjective + even less\n",
    "- antonym + more\n",
    "- antonym + even more\n",
    "\n",
    "After we split them into positive and negative examples, we embed them using SBERT--"
   ]
  },
  {
   "cell_type": "markdown",
   "id": "480bb4d3-f829-4a63-b25f-51b65a1a4426",
   "metadata": {},
   "source": [
    "Obviously we run into the problem where vectors are word level and we want sentence-level representations. The absolute simplest thing I can think of to do here is to use SentenceBERT, which we will download from huggingface.\n",
    "\n",
    "After initializing the model, we generate vector representations for each sentence in the informal list and for each corresponding sentence in the formal list. We subtract the vectors from one another and then take the average, leaving us with a vector that represents the formality dimension. We can rate any sentence vector(s) on the formality dimension by giving them (as a list) to the function predict_scalarproj along with the dimension itself. "
   ]
  },
  {
   "cell_type": "code",
   "execution_count": 16,
   "id": "8bc1284a-c891-45f3-bd91-6493d068d4b4",
   "metadata": {
    "tags": []
   },
   "outputs": [
    {
     "name": "stdout",
     "output_type": "stream",
     "text": [
      "\u001b[33mWARNING: Skipping /usr/local/lib/python3.11/site-packages/Pygments-2.16.1.dist-info due to invalid metadata entry 'name'\u001b[0m\u001b[33m\n",
      "\u001b[0m\u001b[33mWARNING: Skipping /usr/local/lib/python3.11/site-packages/psutil-5.9.6.dist-info due to invalid metadata entry 'name'\u001b[0m\u001b[33m\n",
      "\u001b[0m\u001b[33mWARNING: Skipping /usr/local/lib/python3.11/site-packages/Pygments-2.16.1.dist-info due to invalid metadata entry 'name'\u001b[0m\u001b[33m\n",
      "\u001b[0m\u001b[33mWARNING: Skipping /usr/local/lib/python3.11/site-packages/psutil-5.9.6.dist-info due to invalid metadata entry 'name'\u001b[0m\u001b[33m\n",
      "\u001b[0m\u001b[33mWARNING: Skipping /usr/local/lib/python3.11/site-packages/certifi-2023.7.22.dist-info due to invalid metadata entry 'name'\u001b[0m\u001b[33m\n",
      "\u001b[0m\u001b[33mDEPRECATION: Loading egg at /usr/local/lib/python3.11/site-packages/avgn-0.1.0-py3.11.egg is deprecated. pip 24.3 will enforce this behaviour change. A possible replacement is to use pip for package installation.. Discussion can be found at https://github.com/pypa/pip/issues/12330\u001b[0m\u001b[33m\n",
      "\u001b[0mCollecting sentence-transformers\n",
      "  Downloading sentence_transformers-2.3.0-py3-none-any.whl.metadata (11 kB)\n",
      "Requirement already satisfied: transformers<5.0.0,>=4.32.0 in /usr/local/lib/python3.11/site-packages (from sentence-transformers) (4.36.2)\n",
      "Requirement already satisfied: tqdm in /usr/local/lib/python3.11/site-packages (from sentence-transformers) (4.65.0)\n",
      "Requirement already satisfied: torch>=1.11.0 in /usr/local/lib/python3.11/site-packages (from sentence-transformers) (2.0.1)\n",
      "Requirement already satisfied: numpy in /usr/local/lib/python3.11/site-packages (from sentence-transformers) (1.24.3)\n",
      "Requirement already satisfied: scikit-learn in /usr/local/lib/python3.11/site-packages (from sentence-transformers) (1.3.0)\n",
      "Requirement already satisfied: scipy in /usr/local/lib/python3.11/site-packages (from sentence-transformers) (1.11.1)\n",
      "Requirement already satisfied: nltk in /usr/local/lib/python3.11/site-packages (from sentence-transformers) (3.8.1)\n",
      "Requirement already satisfied: sentencepiece in /usr/local/lib/python3.11/site-packages (from sentence-transformers) (0.1.99)\n",
      "Requirement already satisfied: huggingface-hub>=0.15.1 in /usr/local/lib/python3.11/site-packages (from sentence-transformers) (0.20.1)\n",
      "Requirement already satisfied: Pillow in /usr/local/lib/python3.11/site-packages (from sentence-transformers) (10.0.0)\n",
      "Requirement already satisfied: filelock in /usr/local/lib/python3.11/site-packages (from huggingface-hub>=0.15.1->sentence-transformers) (3.12.2)\n",
      "Requirement already satisfied: fsspec>=2023.5.0 in /usr/local/lib/python3.11/site-packages (from huggingface-hub>=0.15.1->sentence-transformers) (2023.6.0)\n",
      "Requirement already satisfied: requests in /usr/local/lib/python3.11/site-packages (from huggingface-hub>=0.15.1->sentence-transformers) (2.31.0)\n",
      "Requirement already satisfied: pyyaml>=5.1 in /usr/local/lib/python3.11/site-packages (from huggingface-hub>=0.15.1->sentence-transformers) (6.0.1)\n",
      "Requirement already satisfied: typing-extensions>=3.7.4.3 in /usr/local/lib/python3.11/site-packages (from huggingface-hub>=0.15.1->sentence-transformers) (4.9.0)\n",
      "Requirement already satisfied: packaging>=20.9 in /usr/local/lib/python3.11/site-packages (from huggingface-hub>=0.15.1->sentence-transformers) (23.2)\n",
      "Requirement already satisfied: sympy in /usr/local/lib/python3.11/site-packages (from torch>=1.11.0->sentence-transformers) (1.12)\n",
      "Requirement already satisfied: networkx in /usr/local/lib/python3.11/site-packages (from torch>=1.11.0->sentence-transformers) (3.1)\n",
      "Requirement already satisfied: jinja2 in /usr/local/lib/python3.11/site-packages (from torch>=1.11.0->sentence-transformers) (3.1.2)\n",
      "Requirement already satisfied: regex!=2019.12.17 in /usr/local/lib/python3.11/site-packages (from transformers<5.0.0,>=4.32.0->sentence-transformers) (2023.6.3)\n",
      "Requirement already satisfied: tokenizers<0.19,>=0.14 in /usr/local/lib/python3.11/site-packages (from transformers<5.0.0,>=4.32.0->sentence-transformers) (0.15.0)\n",
      "Requirement already satisfied: safetensors>=0.3.1 in /usr/local/lib/python3.11/site-packages (from transformers<5.0.0,>=4.32.0->sentence-transformers) (0.3.1)\n",
      "Requirement already satisfied: click in /usr/local/lib/python3.11/site-packages (from nltk->sentence-transformers) (8.1.6)\n",
      "Requirement already satisfied: joblib in /usr/local/lib/python3.11/site-packages (from nltk->sentence-transformers) (1.3.1)\n",
      "Requirement already satisfied: threadpoolctl>=2.0.0 in /usr/local/lib/python3.11/site-packages (from scikit-learn->sentence-transformers) (3.2.0)\n",
      "Requirement already satisfied: MarkupSafe>=2.0 in /usr/local/lib/python3.11/site-packages (from jinja2->torch>=1.11.0->sentence-transformers) (2.1.3)\n",
      "Requirement already satisfied: charset-normalizer<4,>=2 in /usr/local/lib/python3.11/site-packages (from requests->huggingface-hub>=0.15.1->sentence-transformers) (3.2.0)\n",
      "Requirement already satisfied: idna<4,>=2.5 in /usr/local/lib/python3.11/site-packages (from requests->huggingface-hub>=0.15.1->sentence-transformers) (3.4)\n",
      "Requirement already satisfied: urllib3<3,>=1.21.1 in /usr/local/lib/python3.11/site-packages (from requests->huggingface-hub>=0.15.1->sentence-transformers) (1.26.16)\n",
      "Requirement already satisfied: certifi>=2017.4.17 in /usr/local/lib/python3.11/site-packages (from requests->huggingface-hub>=0.15.1->sentence-transformers) (2023.5.7)\n",
      "Requirement already satisfied: mpmath>=0.19 in /usr/local/lib/python3.11/site-packages (from sympy->torch>=1.11.0->sentence-transformers) (1.3.0)\n",
      "Downloading sentence_transformers-2.3.0-py3-none-any.whl (132 kB)\n",
      "\u001b[2K   \u001b[38;2;114;156;31m━━━━━━━━━━━━━━━━━━━━━━━━━━━━━━━━━━━━━━━━\u001b[0m \u001b[32m132.8/132.8 kB\u001b[0m \u001b[31m2.0 MB/s\u001b[0m eta \u001b[36m0:00:00\u001b[0m MB/s\u001b[0m eta \u001b[36m0:00:01\u001b[0m\n",
      "\u001b[?25h\u001b[33mWARNING: Skipping /usr/local/lib/python3.11/site-packages/Pygments-2.16.1.dist-info due to invalid metadata entry 'name'\u001b[0m\u001b[33m\n",
      "\u001b[0m\u001b[33mWARNING: Skipping /usr/local/lib/python3.11/site-packages/psutil-5.9.6.dist-info due to invalid metadata entry 'name'\u001b[0m\u001b[33m\n",
      "\u001b[0m\u001b[33mWARNING: Skipping /usr/local/lib/python3.11/site-packages/certifi-2023.7.22.dist-info due to invalid metadata entry 'name'\u001b[0m\u001b[33m\n",
      "\u001b[0mInstalling collected packages: sentence-transformers\n",
      "\u001b[33mWARNING: Skipping /usr/local/lib/python3.11/site-packages/Pygments-2.16.1.dist-info due to invalid metadata entry 'name'\u001b[0m\u001b[33m\n",
      "\u001b[0m\u001b[33mWARNING: Skipping /usr/local/lib/python3.11/site-packages/psutil-5.9.6.dist-info due to invalid metadata entry 'name'\u001b[0m\u001b[33m\n",
      "\u001b[0m\u001b[33mWARNING: Skipping /usr/local/lib/python3.11/site-packages/certifi-2023.7.22.dist-info due to invalid metadata entry 'name'\u001b[0m\u001b[33m\n",
      "\u001b[0mSuccessfully installed sentence-transformers-2.3.0\n",
      "\u001b[33mWARNING: Skipping /usr/local/lib/python3.11/site-packages/Pygments-2.16.1.dist-info due to invalid metadata entry 'name'\u001b[0m\u001b[33m\n",
      "\u001b[0m\u001b[33mWARNING: Skipping /usr/local/lib/python3.11/site-packages/psutil-5.9.6.dist-info due to invalid metadata entry 'name'\u001b[0m\u001b[33m\n",
      "\u001b[0m\u001b[33mWARNING: Skipping /usr/local/lib/python3.11/site-packages/Pygments-2.16.1.dist-info due to invalid metadata entry 'name'\u001b[0m\u001b[33m\n",
      "\u001b[0m\u001b[33mWARNING: Skipping /usr/local/lib/python3.11/site-packages/psutil-5.9.6.dist-info due to invalid metadata entry 'name'\u001b[0m\u001b[33m\n",
      "\u001b[0m\u001b[33mWARNING: Skipping /usr/local/lib/python3.11/site-packages/certifi-2023.7.22.dist-info due to invalid metadata entry 'name'\u001b[0m\u001b[33m\n",
      "\u001b[0m\u001b[33mWARNING: Skipping /usr/local/lib/python3.11/site-packages/Pygments-2.16.1.dist-info due to invalid metadata entry 'name'\u001b[0m\u001b[33m\n",
      "\u001b[0m\u001b[33mWARNING: Skipping /usr/local/lib/python3.11/site-packages/psutil-5.9.6.dist-info due to invalid metadata entry 'name'\u001b[0m\u001b[33m\n",
      "\u001b[0m\u001b[33mWARNING: Skipping /usr/local/lib/python3.11/site-packages/certifi-2023.7.22.dist-info due to invalid metadata entry 'name'\u001b[0m\u001b[33m\n",
      "\u001b[0m"
     ]
    }
   ],
   "source": [
    "# load sbert\n",
    "!pip install -U sentence-transformers"
   ]
  },
  {
   "cell_type": "code",
   "execution_count": null,
   "id": "4923a2e7-8e7a-4f18-bb29-3b2d858181ba",
   "metadata": {},
   "outputs": [],
   "source": [
    "text1 = dfp"
   ]
  },
  {
   "cell_type": "code",
   "execution_count": 18,
   "id": "fcc3019e-351a-4989-8a8a-499dd380be2e",
   "metadata": {
    "tags": []
   },
   "outputs": [
    {
     "data": {
      "text/html": [
       "<div>\n",
       "<style scoped>\n",
       "    .dataframe tbody tr th:only-of-type {\n",
       "        vertical-align: middle;\n",
       "    }\n",
       "\n",
       "    .dataframe tbody tr th {\n",
       "        vertical-align: top;\n",
       "    }\n",
       "\n",
       "    .dataframe thead th {\n",
       "        text-align: right;\n",
       "    }\n",
       "</style>\n",
       "<table border=\"1\" class=\"dataframe\">\n",
       "  <thead>\n",
       "    <tr style=\"text-align: right;\">\n",
       "      <th></th>\n",
       "      <th>Unnamed: 0</th>\n",
       "      <th>sentence</th>\n",
       "      <th>text1</th>\n",
       "      <th>text2</th>\n",
       "      <th>more</th>\n",
       "      <th>even_more</th>\n",
       "      <th>less</th>\n",
       "      <th>even_less</th>\n",
       "      <th>property</th>\n",
       "      <th>adjective</th>\n",
       "      <th>antonym?</th>\n",
       "      <th>embedding1</th>\n",
       "      <th>embedding2</th>\n",
       "    </tr>\n",
       "  </thead>\n",
       "  <tbody>\n",
       "    <tr>\n",
       "      <th>0</th>\n",
       "      <td>0</td>\n",
       "      <td>Last week I got into a car accident.</td>\n",
       "      <td>The previous week, I was involved in a vehicul...</td>\n",
       "      <td>I had a car accident last week.</td>\n",
       "      <td>1</td>\n",
       "      <td>0</td>\n",
       "      <td>1</td>\n",
       "      <td>0</td>\n",
       "      <td>complexity</td>\n",
       "      <td>complex</td>\n",
       "      <td>0</td>\n",
       "      <td>[0.05463976413011551, 0.04207246005535126, 0.0...</td>\n",
       "      <td>[-0.016751712188124657, 0.004364476073533297, ...</td>\n",
       "    </tr>\n",
       "    <tr>\n",
       "      <th>1</th>\n",
       "      <td>1</td>\n",
       "      <td>Last week I got into a car accident.</td>\n",
       "      <td>During the preceding week, I found myself embr...</td>\n",
       "      <td>I had a crash with my car last week.</td>\n",
       "      <td>0</td>\n",
       "      <td>1</td>\n",
       "      <td>0</td>\n",
       "      <td>1</td>\n",
       "      <td>complexity</td>\n",
       "      <td>complex</td>\n",
       "      <td>0</td>\n",
       "      <td>[0.016205454245209694, 0.018613578751683235, 0...</td>\n",
       "      <td>[0.024704132229089737, 0.01558883860707283, 0....</td>\n",
       "    </tr>\n",
       "    <tr>\n",
       "      <th>2</th>\n",
       "      <td>2</td>\n",
       "      <td>Last week I got into a car accident.</td>\n",
       "      <td>I had a car crash last week.</td>\n",
       "      <td>Last week I was involved in a collision while ...</td>\n",
       "      <td>1</td>\n",
       "      <td>0</td>\n",
       "      <td>1</td>\n",
       "      <td>0</td>\n",
       "      <td>complexity</td>\n",
       "      <td>simple</td>\n",
       "      <td>1</td>\n",
       "      <td>[0.014592831023037434, -0.003254925599321723, ...</td>\n",
       "      <td>[0.05353369563817978, 0.02159007079899311, 0.0...</td>\n",
       "    </tr>\n",
       "    <tr>\n",
       "      <th>3</th>\n",
       "      <td>3</td>\n",
       "      <td>Last week I got into a car accident.</td>\n",
       "      <td>I had a car accident last week.</td>\n",
       "      <td>During the course of the previous week, I was ...</td>\n",
       "      <td>0</td>\n",
       "      <td>1</td>\n",
       "      <td>0</td>\n",
       "      <td>1</td>\n",
       "      <td>complexity</td>\n",
       "      <td>simple</td>\n",
       "      <td>1</td>\n",
       "      <td>[-0.016751712188124657, 0.004364476073533297, ...</td>\n",
       "      <td>[0.05612611025571823, 0.05228176712989807, 0.0...</td>\n",
       "    </tr>\n",
       "    <tr>\n",
       "      <th>4</th>\n",
       "      <td>4</td>\n",
       "      <td>She had some amazing news to share but nobody ...</td>\n",
       "      <td>She was in possession of astounding news, yet ...</td>\n",
       "      <td>She had exciting news to tell, but no one to t...</td>\n",
       "      <td>1</td>\n",
       "      <td>0</td>\n",
       "      <td>1</td>\n",
       "      <td>0</td>\n",
       "      <td>complexity</td>\n",
       "      <td>complex</td>\n",
       "      <td>0</td>\n",
       "      <td>[0.011493628844618797, 0.059226855635643005, 0...</td>\n",
       "      <td>[0.038831476122140884, 0.027946915477514267, 0...</td>\n",
       "    </tr>\n",
       "  </tbody>\n",
       "</table>\n",
       "</div>"
      ],
      "text/plain": [
       "   Unnamed: 0                                           sentence  \\\n",
       "0           0               Last week I got into a car accident.   \n",
       "1           1               Last week I got into a car accident.   \n",
       "2           2               Last week I got into a car accident.   \n",
       "3           3               Last week I got into a car accident.   \n",
       "4           4  She had some amazing news to share but nobody ...   \n",
       "\n",
       "                                               text1  \\\n",
       "0  The previous week, I was involved in a vehicul...   \n",
       "1  During the preceding week, I found myself embr...   \n",
       "2                       I had a car crash last week.   \n",
       "3                    I had a car accident last week.   \n",
       "4  She was in possession of astounding news, yet ...   \n",
       "\n",
       "                                               text2  more  even_more  less  \\\n",
       "0                    I had a car accident last week.     1          0     1   \n",
       "1               I had a crash with my car last week.     0          1     0   \n",
       "2  Last week I was involved in a collision while ...     1          0     1   \n",
       "3  During the course of the previous week, I was ...     0          1     0   \n",
       "4  She had exciting news to tell, but no one to t...     1          0     1   \n",
       "\n",
       "   even_less    property adjective  antonym?  \\\n",
       "0          0  complexity   complex         0   \n",
       "1          1  complexity   complex         0   \n",
       "2          0  complexity    simple         1   \n",
       "3          1  complexity    simple         1   \n",
       "4          0  complexity   complex         0   \n",
       "\n",
       "                                          embedding1  \\\n",
       "0  [0.05463976413011551, 0.04207246005535126, 0.0...   \n",
       "1  [0.016205454245209694, 0.018613578751683235, 0...   \n",
       "2  [0.014592831023037434, -0.003254925599321723, ...   \n",
       "3  [-0.016751712188124657, 0.004364476073533297, ...   \n",
       "4  [0.011493628844618797, 0.059226855635643005, 0...   \n",
       "\n",
       "                                          embedding2  \n",
       "0  [-0.016751712188124657, 0.004364476073533297, ...  \n",
       "1  [0.024704132229089737, 0.01558883860707283, 0....  \n",
       "2  [0.05353369563817978, 0.02159007079899311, 0.0...  \n",
       "3  [0.05612611025571823, 0.05228176712989807, 0.0...  \n",
       "4  [0.038831476122140884, 0.027946915477514267, 0...  "
      ]
     },
     "execution_count": 18,
     "metadata": {},
     "output_type": "execute_result"
    }
   ],
   "source": [
    "from sentence_transformers import SentenceTransformer\n",
    "model = SentenceTransformer('all-MiniLM-L6-v2')\n",
    "\n",
    "text1 = df['text1'].to_list()\n",
    "text2 = df['text2'].to_list()\n",
    "\n",
    "#Sentences are encoded by calling model.encode()\n",
    "embeddings1 = model.encode(text1)\n",
    "embeddings2 = model.encode(text2)\n",
    "\n",
    "\n",
    "#df = df.assign(embedding1=embeddings1.tolist())\n",
    "#df = df.assign(embedding2=embeddings2.tolist())\n",
    "\n",
    "\n",
    "df.head(5)\n",
    "\n",
    "# #Print the embeddings\n",
    "# for sentence, embedding in zip(positive[:5], pos_embeddings[:5]):\n",
    "#     print(\"Sentence:\", sentence)\n",
    "#     print(\"Embedding:\", embedding[:100])\n",
    "#     print(\"\")"
   ]
  },
  {
   "cell_type": "code",
   "execution_count": 22,
   "id": "e3cda30c-3ae2-46ed-8cd4-4f7e4d420929",
   "metadata": {},
   "outputs": [],
   "source": [
    "difference_vecs = (embeddings1-embeddings2)"
   ]
  },
  {
   "cell_type": "code",
   "execution_count": 26,
   "id": "fbb603f9-968c-4a6b-876a-42c3c8a95749",
   "metadata": {},
   "outputs": [
    {
     "data": {
      "text/plain": [
       "array([-6.8965023e-03, -5.6659459e-04,  1.5460422e-03, -8.7708829e-04,\n",
       "        7.2396388e-03,  4.1472060e-03,  1.9682597e-03, -4.2196838e-03,\n",
       "        3.9485836e-04, -7.8492932e-04,  4.1114953e-03, -1.7584482e-03,\n",
       "        1.2596576e-03, -7.2792852e-03,  4.4339136e-04, -2.3448355e-03,\n",
       "       -1.8821467e-03,  7.8109666e-03, -4.5756958e-03, -3.1327221e-03,\n",
       "       -1.3105258e-02, -5.0993678e-03,  1.2832416e-03, -4.6180263e-03,\n",
       "        2.2514041e-03, -8.2333032e-03,  3.2548173e-03, -1.0937602e-03,\n",
       "       -2.3927470e-03, -1.5277287e-03,  5.7566953e-03, -9.7412482e-04,\n",
       "        5.4619429e-03,  9.4161034e-05,  3.3427014e-03,  2.3252766e-03,\n",
       "        1.5675417e-03, -5.8196858e-04, -6.6797310e-03,  5.0237128e-03,\n",
       "        2.2438217e-03, -2.0526124e-03,  3.0405505e-03, -1.0291407e-04,\n",
       "        6.5335783e-04, -5.9105568e-03,  1.4018369e-03,  5.1945611e-03,\n",
       "        5.2535348e-03,  1.4014143e-03, -1.7069828e-03, -1.4668209e-03,\n",
       "       -2.7253535e-03,  9.9160439e-05, -2.7645428e-03,  9.8385522e-03,\n",
       "        7.7663949e-03, -4.2395536e-03,  3.1926364e-04, -7.7575897e-03,\n",
       "        5.6499322e-03, -1.8868996e-03, -2.3362215e-03, -1.5720783e-03,\n",
       "        9.2806136e-03, -1.7040689e-03, -3.0692967e-03, -7.4478560e-03,\n",
       "        6.7650253e-04, -1.6268843e-03,  9.3128922e-04, -7.8526710e-04,\n",
       "        7.0044596e-04,  3.5419113e-03, -4.5964089e-03,  4.2390238e-04,\n",
       "        4.4662133e-03,  3.2971597e-03,  2.7974583e-03,  7.9932753e-03,\n",
       "        8.3611179e-03,  8.3731796e-04,  5.6369934e-04, -3.5771374e-03,\n",
       "       -3.2874721e-03,  6.4459752e-04, -2.4405217e-03,  3.6819966e-03,\n",
       "       -3.0382709e-03,  1.3966382e-03,  4.7297105e-03,  1.7616060e-03,\n",
       "       -3.8098325e-03,  1.4961773e-03, -4.5674406e-03, -3.0656920e-03,\n",
       "       -9.2851452e-04,  4.4539375e-03, -7.6032459e-04,  6.3460195e-03,\n",
       "       -6.1861342e-03, -4.9317204e-03,  6.8747113e-03,  1.1042899e-03,\n",
       "        6.7988923e-03,  2.8015072e-03, -8.0204923e-03,  2.3353831e-03,\n",
       "        2.5667120e-03, -5.1550278e-03, -4.6596378e-03,  1.4833029e-03,\n",
       "       -2.3041738e-03,  9.1311568e-03,  7.8558689e-03,  5.4399262e-04,\n",
       "        1.7288508e-03, -3.5461676e-03,  2.2703712e-03, -1.0598702e-02,\n",
       "        5.5203855e-04,  4.2197254e-04, -3.1130663e-03,  3.5937730e-04,\n",
       "       -4.7865780e-03, -1.6062116e-03,  5.2752309e-03,  4.1475991e-34,\n",
       "       -2.0303526e-03,  6.1395909e-03,  1.3687762e-03,  9.9090505e-03,\n",
       "       -1.6766360e-03, -1.4207782e-03, -7.3140068e-03,  1.0328356e-03,\n",
       "       -3.5933612e-03, -8.9510409e-05,  4.8713377e-03,  2.8849940e-03,\n",
       "       -4.4155498e-03,  3.6669071e-03, -5.1543303e-03,  4.2683333e-03,\n",
       "       -1.0268142e-02, -9.6039788e-04,  3.5364353e-03,  1.0102203e-03,\n",
       "       -1.7881896e-03, -6.1033792e-03,  9.2882238e-04, -5.5613597e-03,\n",
       "       -9.1288425e-04,  4.0408107e-03,  8.2785310e-03, -1.0279968e-02,\n",
       "       -7.3319008e-03,  1.2807987e-03,  2.0528508e-03,  3.6251678e-03,\n",
       "       -4.9376942e-04, -6.0839546e-03,  4.9441182e-03,  3.9220363e-04,\n",
       "        4.8837578e-03,  3.9429008e-03,  2.9935299e-03,  4.7898181e-03,\n",
       "       -2.9425882e-04, -2.8351380e-03,  4.0203244e-03, -6.4416300e-03,\n",
       "        6.2016319e-03,  2.2546023e-04,  7.3049101e-03,  4.5173508e-03,\n",
       "        4.8632985e-03, -1.2898205e-04,  3.5838031e-03, -5.7679699e-03,\n",
       "        2.2794226e-04, -5.7065599e-03, -3.1884213e-03, -1.9072102e-03,\n",
       "        2.7872857e-03, -5.6617865e-03,  1.0622111e-02, -3.8011528e-03,\n",
       "        7.3578344e-03,  2.6903334e-03,  1.4335513e-03, -4.6986309e-03,\n",
       "       -1.9066121e-03,  2.4366830e-03,  1.5448465e-03, -5.4369024e-03,\n",
       "        2.7728791e-03, -2.1230690e-03, -3.1594164e-03,  3.2808818e-04,\n",
       "       -3.9477344e-03,  1.8647499e-03, -4.5022392e-03,  7.9641547e-03,\n",
       "        2.7335741e-04,  5.6443259e-04, -1.8899485e-03,  1.0506329e-02,\n",
       "        4.1708103e-03, -2.3525713e-03, -2.4552722e-03, -6.0315444e-03,\n",
       "        2.3047789e-03, -2.2590125e-03, -8.8520645e-04, -6.3564619e-03,\n",
       "       -1.7268530e-03,  7.3091649e-03,  1.5434559e-03,  1.3355026e-03,\n",
       "        6.6872622e-04,  3.7776157e-03,  2.6206702e-03, -3.9621231e-34,\n",
       "       -4.2863861e-03, -7.8079640e-03,  1.4592672e-03, -4.8605786e-03,\n",
       "       -5.8911135e-03, -1.0291407e-02, -8.7958416e-03,  4.2219609e-03,\n",
       "       -8.9901092e-04,  6.4342683e-03, -3.0330026e-03, -5.2982131e-03,\n",
       "        1.6564649e-02,  1.8823609e-03,  3.3013818e-03,  3.9337440e-03,\n",
       "        1.9397441e-03, -6.0709328e-03, -5.3382083e-03, -8.8655446e-03,\n",
       "       -1.0268149e-03, -2.2048461e-03, -1.0452134e-02, -2.3164898e-03,\n",
       "        4.4257022e-03, -2.3107890e-03,  3.3842304e-03,  2.6033461e-04,\n",
       "       -3.5961629e-03, -4.3836506e-03, -9.9236220e-03, -7.3303366e-03,\n",
       "        1.1090839e-03,  1.9991982e-03, -8.8650826e-03,  2.1069241e-03,\n",
       "        4.7039934e-03, -6.1261733e-03,  8.4133949e-03, -7.2765246e-04,\n",
       "        2.4420343e-04, -6.9604008e-03, -3.1509069e-03, -5.4021967e-03,\n",
       "       -4.4701067e-03, -4.0008775e-03,  8.0113806e-04,  1.8808321e-03,\n",
       "        4.0685595e-03,  6.2340139e-03,  2.2092103e-03,  5.7652830e-03,\n",
       "        9.3602977e-04, -9.1024535e-03, -1.6635932e-03,  5.3283242e-03,\n",
       "       -3.7978271e-03, -1.0478933e-03,  6.4830361e-03, -1.1380141e-03,\n",
       "       -3.8948550e-03,  1.6968343e-03, -7.4149175e-03,  5.2377423e-03,\n",
       "        5.0400314e-03, -6.8948115e-03,  4.1389628e-03, -6.8830028e-03,\n",
       "       -1.1678503e-02,  3.1184405e-05, -6.7818752e-03, -5.0565945e-03,\n",
       "       -3.6394778e-03, -5.4157292e-03,  2.0143599e-03,  3.4010976e-03,\n",
       "        1.0416328e-02,  7.9490775e-03,  5.2017026e-04,  1.7872147e-03,\n",
       "       -5.5772001e-03, -2.6814505e-03,  8.7825647e-03, -3.7186977e-03,\n",
       "        5.4587065e-03,  8.7753398e-04, -5.0928192e-03, -5.8703707e-03,\n",
       "       -3.8114074e-03, -3.5674484e-03, -2.2045793e-03,  1.3501133e-03,\n",
       "       -5.7487646e-03, -5.4888655e-03,  2.3185215e-03, -1.7143839e-09,\n",
       "        2.3184994e-03, -1.1306655e-03,  1.4554143e-03,  9.6973032e-04,\n",
       "       -3.8354113e-04, -3.1682171e-04,  8.8900672e-03, -3.1754395e-03,\n",
       "       -1.0689870e-03,  8.0706235e-03, -5.6443401e-03,  3.5677126e-03,\n",
       "       -2.2038878e-03,  3.6257657e-03,  8.5449405e-04, -6.6922531e-03,\n",
       "       -6.6879869e-04,  4.1259257e-03, -1.5762316e-03,  5.1290682e-03,\n",
       "        3.3742094e-03,  3.3951600e-03,  5.3080590e-03,  6.8307196e-04,\n",
       "        8.2841804e-03, -3.0995174e-03, -1.4830424e-03, -9.5784869e-03,\n",
       "       -1.5221791e-03,  3.3466097e-03, -1.4831446e-03,  9.9275392e-03,\n",
       "       -7.4589509e-03,  3.9721783e-03,  2.9106266e-03, -3.6247303e-03,\n",
       "        4.8039886e-03, -1.0012091e-03, -4.0999032e-03, -4.5216456e-03,\n",
       "        4.8622256e-03,  6.3975072e-03, -6.8949205e-03,  1.0274636e-03,\n",
       "        1.9872386e-03,  1.6532250e-03,  8.6652664e-03, -3.2000414e-03,\n",
       "       -3.6423493e-03,  6.2168442e-04,  1.0361910e-03, -4.8582922e-03,\n",
       "        3.4752320e-03, -2.1289850e-03, -4.0778904e-03,  1.2825790e-03,\n",
       "        3.3441235e-03,  7.7986913e-03,  3.0396539e-03, -3.7099663e-03,\n",
       "        2.9621175e-03,  9.3017733e-03, -4.0237382e-03, -4.5894599e-03],\n",
       "      dtype=float32)"
      ]
     },
     "execution_count": 26,
     "metadata": {},
     "output_type": "execute_result"
    }
   ],
   "source": [
    "dimvec = np.mean(difference_vecs, axis = 0)\n",
    "dimvec"
   ]
  },
  {
   "cell_type": "code",
   "execution_count": 27,
   "id": "b2e55df1-af38-48be-9fc5-104a9d5e429d",
   "metadata": {},
   "outputs": [],
   "source": [
    "#### from marianna + katrin\n",
    "# seed-based method\n",
    "# averaging over seed pair vectors\n",
    "# def dimension_seedbased(seeds_pos, seeds_neg, space, paired = False):\n",
    "#     diffvectors = [ ]\n",
    "    \n",
    "#     for negword, posword in _make_seedpairs(seeds_pos, seeds_neg, paired = paired):\n",
    "#         diffvectors.append(space[posword] - space[negword])\n",
    "\n",
    "#     # average\n",
    "#     dimvec = np.mean(diffvectors, axis = 0)\n",
    "#     return dimvec\n"
   ]
  },
  {
   "cell_type": "code",
   "execution_count": 28,
   "id": "676f37e8-3dfb-4506-a854-40d052d98229",
   "metadata": {
    "tags": []
   },
   "outputs": [],
   "source": [
    "def dimension_seedbased():\n",
    "    return dimvec"
   ]
  },
  {
   "cell_type": "code",
   "execution_count": 29,
   "id": "eee09be1-c023-4eb8-b9e0-3c69b1953c8d",
   "metadata": {
    "tags": []
   },
   "outputs": [],
   "source": [
    "complexity_dimension = dimension_seedbased()"
   ]
  },
  {
   "cell_type": "code",
   "execution_count": 30,
   "id": "b5fe2f2b-b07e-4e07-8d93-9692f0f230c7",
   "metadata": {},
   "outputs": [],
   "source": [
    "# vector scalar projection (from marianna + katrin)\n",
    "def predict_scalarproj(veclist, dimension):\n",
    "    dir_veclen = math.sqrt(np.dot(dimension, dimension))\n",
    "    return [np.dot(v, dimension) / dir_veclen for v in veclist]"
   ]
  },
  {
   "cell_type": "markdown",
   "id": "9770a039-0b13-4949-a03c-4e3b7a94baf8",
   "metadata": {},
   "source": [
    "# Step 3: validating the formality dimension\n",
    "\n",
    "does it behave the same way as a standard classifier?\n",
    "\n",
    "\n",
    "We load a regular classifier\n",
    "\n",
    "We run this prediction method and the formality classifier on the formality dataset. \n",
    "\n",
    "We compare. Is the dimension-based method that much worse?"
   ]
  },
  {
   "cell_type": "markdown",
   "id": "8c969e44-b386-4cbe-b0ff-e1d6579bbed2",
   "metadata": {},
   "source": [
    "We load a formality dataset - perhaps the word-based one that Marianna uses.\n",
    "\n",
    "We order the entries by their complexity rating and look at where they fall on our complexity axis."
   ]
  },
  {
   "cell_type": "code",
   "execution_count": null,
   "id": "2c895faf-64c3-4e77-aff5-5cbcbb723401",
   "metadata": {},
   "outputs": [],
   "source": []
  },
  {
   "cell_type": "markdown",
   "id": "241aa0ac-ff61-4e2e-9a1c-91a389a5d2fd",
   "metadata": {},
   "source": [
    "## Step 4: Rating Toxicity Datasets for formality\n",
    "\n",
    "We'll start with the 1000-length parallel dataset from the text detoxification paper. \n",
    "\n",
    "We load it in\n",
    "\n",
    "We SBERTize the sentences\n",
    "\n",
    "We pass them to the prediction method. \n",
    "\n",
    "We observe: do toxic and nontoxic comments differ wrt formality?"
   ]
  },
  {
   "cell_type": "code",
   "execution_count": 31,
   "id": "671b7294-4f8e-4858-8e99-5dc538488c74",
   "metadata": {
    "tags": []
   },
   "outputs": [
    {
     "name": "stderr",
     "output_type": "stream",
     "text": [
      "huggingface/tokenizers: The current process just got forked, after parallelism has already been used. Disabling parallelism to avoid deadlocks...\n",
      "To disable this warning, you can either:\n",
      "\t- Avoid using `tokenizers` before the fork if possible\n",
      "\t- Explicitly set the environment variable TOKENIZERS_PARALLELISM=(true | false)\n"
     ]
    },
    {
     "name": "stdout",
     "output_type": "stream",
     "text": [
      "\u001b[33mWARNING: Skipping /usr/local/lib/python3.11/site-packages/Pygments-2.16.1.dist-info due to invalid metadata entry 'name'\u001b[0m\u001b[33m\n",
      "\u001b[0m\u001b[33mWARNING: Skipping /usr/local/lib/python3.11/site-packages/psutil-5.9.6.dist-info due to invalid metadata entry 'name'\u001b[0m\u001b[33m\n",
      "\u001b[0m\u001b[33mWARNING: Skipping /usr/local/lib/python3.11/site-packages/Pygments-2.16.1.dist-info due to invalid metadata entry 'name'\u001b[0m\u001b[33m\n",
      "\u001b[0m\u001b[33mWARNING: Skipping /usr/local/lib/python3.11/site-packages/psutil-5.9.6.dist-info due to invalid metadata entry 'name'\u001b[0m\u001b[33m\n",
      "\u001b[0m\u001b[33mWARNING: Skipping /usr/local/lib/python3.11/site-packages/certifi-2023.7.22.dist-info due to invalid metadata entry 'name'\u001b[0m\u001b[33m\n",
      "\u001b[0m\u001b[33mDEPRECATION: Loading egg at /usr/local/lib/python3.11/site-packages/avgn-0.1.0-py3.11.egg is deprecated. pip 24.3 will enforce this behaviour change. A possible replacement is to use pip for package installation.. Discussion can be found at https://github.com/pypa/pip/issues/12330\u001b[0m\u001b[33m\n",
      "\u001b[0mRequirement already satisfied: datasets in /usr/local/lib/python3.11/site-packages (2.13.1)\n",
      "Requirement already satisfied: numpy>=1.17 in /usr/local/lib/python3.11/site-packages (from datasets) (1.24.3)\n",
      "Requirement already satisfied: pyarrow>=8.0.0 in /usr/local/lib/python3.11/site-packages (from datasets) (12.0.1)\n",
      "Requirement already satisfied: dill<0.3.7,>=0.3.0 in /usr/local/lib/python3.11/site-packages (from datasets) (0.3.6)\n",
      "Requirement already satisfied: pandas in /usr/local/lib/python3.11/site-packages (from datasets) (2.0.3)\n",
      "Requirement already satisfied: requests>=2.19.0 in /usr/local/lib/python3.11/site-packages (from datasets) (2.31.0)\n",
      "Requirement already satisfied: tqdm>=4.62.1 in /usr/local/lib/python3.11/site-packages (from datasets) (4.65.0)\n",
      "Requirement already satisfied: xxhash in /usr/local/lib/python3.11/site-packages (from datasets) (3.2.0)\n",
      "Requirement already satisfied: multiprocess in /usr/local/lib/python3.11/site-packages (from datasets) (0.70.14)\n",
      "Requirement already satisfied: fsspec>=2021.11.1 in /usr/local/lib/python3.11/site-packages (from fsspec[http]>=2021.11.1->datasets) (2023.6.0)\n",
      "Requirement already satisfied: aiohttp in /usr/local/lib/python3.11/site-packages (from datasets) (3.8.5)\n",
      "Requirement already satisfied: huggingface-hub<1.0.0,>=0.11.0 in /usr/local/lib/python3.11/site-packages (from datasets) (0.20.1)\n",
      "Requirement already satisfied: packaging in /usr/local/lib/python3.11/site-packages (from datasets) (23.2)\n",
      "Requirement already satisfied: pyyaml>=5.1 in /usr/local/lib/python3.11/site-packages (from datasets) (6.0.1)\n",
      "Requirement already satisfied: attrs>=17.3.0 in /usr/local/lib/python3.11/site-packages (from aiohttp->datasets) (23.1.0)\n",
      "Requirement already satisfied: charset-normalizer<4.0,>=2.0 in /usr/local/lib/python3.11/site-packages (from aiohttp->datasets) (3.2.0)\n",
      "Requirement already satisfied: multidict<7.0,>=4.5 in /usr/local/lib/python3.11/site-packages (from aiohttp->datasets) (6.0.4)\n",
      "Requirement already satisfied: async-timeout<5.0,>=4.0.0a3 in /usr/local/lib/python3.11/site-packages (from aiohttp->datasets) (4.0.2)\n",
      "Requirement already satisfied: yarl<2.0,>=1.0 in /usr/local/lib/python3.11/site-packages (from aiohttp->datasets) (1.9.2)\n",
      "Requirement already satisfied: frozenlist>=1.1.1 in /usr/local/lib/python3.11/site-packages (from aiohttp->datasets) (1.4.0)\n",
      "Requirement already satisfied: aiosignal>=1.1.2 in /usr/local/lib/python3.11/site-packages (from aiohttp->datasets) (1.3.1)\n",
      "Requirement already satisfied: filelock in /usr/local/lib/python3.11/site-packages (from huggingface-hub<1.0.0,>=0.11.0->datasets) (3.12.2)\n",
      "Requirement already satisfied: typing-extensions>=3.7.4.3 in /usr/local/lib/python3.11/site-packages (from huggingface-hub<1.0.0,>=0.11.0->datasets) (4.9.0)\n",
      "Requirement already satisfied: idna<4,>=2.5 in /usr/local/lib/python3.11/site-packages (from requests>=2.19.0->datasets) (3.4)\n",
      "Requirement already satisfied: urllib3<3,>=1.21.1 in /usr/local/lib/python3.11/site-packages (from requests>=2.19.0->datasets) (1.26.16)\n",
      "Requirement already satisfied: certifi>=2017.4.17 in /usr/local/lib/python3.11/site-packages (from requests>=2.19.0->datasets) (2023.5.7)\n",
      "Requirement already satisfied: python-dateutil>=2.8.2 in /usr/local/lib/python3.11/site-packages (from pandas->datasets) (2.8.2)\n",
      "Requirement already satisfied: pytz>=2020.1 in /usr/local/lib/python3.11/site-packages (from pandas->datasets) (2023.3)\n",
      "Requirement already satisfied: tzdata>=2022.1 in /usr/local/lib/python3.11/site-packages (from pandas->datasets) (2023.3)\n",
      "Requirement already satisfied: six>=1.5 in /usr/local/lib/python3.11/site-packages (from python-dateutil>=2.8.2->pandas->datasets) (1.16.0)\n",
      "\u001b[33mWARNING: Skipping /usr/local/lib/python3.11/site-packages/Pygments-2.16.1.dist-info due to invalid metadata entry 'name'\u001b[0m\u001b[33m\n",
      "\u001b[0m\u001b[33mWARNING: Skipping /usr/local/lib/python3.11/site-packages/psutil-5.9.6.dist-info due to invalid metadata entry 'name'\u001b[0m\u001b[33m\n",
      "\u001b[0m\u001b[33mWARNING: Skipping /usr/local/lib/python3.11/site-packages/certifi-2023.7.22.dist-info due to invalid metadata entry 'name'\u001b[0m\u001b[33m\n",
      "\u001b[0m\u001b[33mWARNING: Skipping /usr/local/lib/python3.11/site-packages/Pygments-2.16.1.dist-info due to invalid metadata entry 'name'\u001b[0m\u001b[33m\n",
      "\u001b[0m\u001b[33mWARNING: Skipping /usr/local/lib/python3.11/site-packages/psutil-5.9.6.dist-info due to invalid metadata entry 'name'\u001b[0m\u001b[33m\n",
      "\u001b[0m\u001b[33mWARNING: Skipping /usr/local/lib/python3.11/site-packages/Pygments-2.16.1.dist-info due to invalid metadata entry 'name'\u001b[0m\u001b[33m\n",
      "\u001b[0m\u001b[33mWARNING: Skipping /usr/local/lib/python3.11/site-packages/psutil-5.9.6.dist-info due to invalid metadata entry 'name'\u001b[0m\u001b[33m\n",
      "\u001b[0m\u001b[33mWARNING: Skipping /usr/local/lib/python3.11/site-packages/certifi-2023.7.22.dist-info due to invalid metadata entry 'name'\u001b[0m\u001b[33m\n",
      "\u001b[0m\u001b[33mWARNING: Skipping /usr/local/lib/python3.11/site-packages/Pygments-2.16.1.dist-info due to invalid metadata entry 'name'\u001b[0m\u001b[33m\n",
      "\u001b[0m\u001b[33mWARNING: Skipping /usr/local/lib/python3.11/site-packages/psutil-5.9.6.dist-info due to invalid metadata entry 'name'\u001b[0m\u001b[33m\n",
      "\u001b[0m\u001b[33mWARNING: Skipping /usr/local/lib/python3.11/site-packages/certifi-2023.7.22.dist-info due to invalid metadata entry 'name'\u001b[0m\u001b[33m\n",
      "\u001b[0m"
     ]
    }
   ],
   "source": [
    "!pip install datasets"
   ]
  },
  {
   "cell_type": "code",
   "execution_count": 33,
   "id": "0ada82a2-b086-49e5-9311-90da32f03a21",
   "metadata": {
    "tags": []
   },
   "outputs": [
    {
     "name": "stdout",
     "output_type": "stream",
     "text": [
      "Downloading and preparing dataset None/None to /Users/gabriellachronis/.cache/huggingface/datasets/parquet/civil_comments-e92c9358c47debf9/0.0.0/14a00e99c0d15a23649d0db8944380ac81082d4b021f398733dd84f3a6c569a7...\n"
     ]
    },
    {
     "data": {
      "application/vnd.jupyter.widget-view+json": {
       "model_id": "90acac4b424f485dbe98f0bcc5dc5ef1",
       "version_major": 2,
       "version_minor": 0
      },
      "text/plain": [
       "Downloading data files:   0%|          | 0/3 [00:00<?, ?it/s]"
      ]
     },
     "metadata": {},
     "output_type": "display_data"
    },
    {
     "data": {
      "application/vnd.jupyter.widget-view+json": {
       "model_id": "a84a525b51b142e7b0c09782294cc333",
       "version_major": 2,
       "version_minor": 0
      },
      "text/plain": [
       "Downloading data:   0%|          | 0.00/187M [00:00<?, ?B/s]"
      ]
     },
     "metadata": {},
     "output_type": "display_data"
    },
    {
     "data": {
      "application/vnd.jupyter.widget-view+json": {
       "model_id": "65927450cac34e8abdfa5e0d08acf169",
       "version_major": 2,
       "version_minor": 0
      },
      "text/plain": [
       "Downloading data:   0%|          | 0.00/21.0M [00:00<?, ?B/s]"
      ]
     },
     "metadata": {},
     "output_type": "display_data"
    },
    {
     "data": {
      "application/vnd.jupyter.widget-view+json": {
       "model_id": "f05a710e47fa4e85b01d5d7e179baeb4",
       "version_major": 2,
       "version_minor": 0
      },
      "text/plain": [
       "Downloading data:   0%|          | 0.00/20.8M [00:00<?, ?B/s]"
      ]
     },
     "metadata": {},
     "output_type": "display_data"
    },
    {
     "data": {
      "application/vnd.jupyter.widget-view+json": {
       "model_id": "b0832397e18e41b28781d3c7f2e56206",
       "version_major": 2,
       "version_minor": 0
      },
      "text/plain": [
       "Extracting data files:   0%|          | 0/3 [00:00<?, ?it/s]"
      ]
     },
     "metadata": {},
     "output_type": "display_data"
    },
    {
     "data": {
      "application/vnd.jupyter.widget-view+json": {
       "model_id": "",
       "version_major": 2,
       "version_minor": 0
      },
      "text/plain": [
       "Generating train split:   0%|          | 0/1804874 [00:00<?, ? examples/s]"
      ]
     },
     "metadata": {},
     "output_type": "display_data"
    },
    {
     "data": {
      "application/vnd.jupyter.widget-view+json": {
       "model_id": "",
       "version_major": 2,
       "version_minor": 0
      },
      "text/plain": [
       "Generating validation split:   0%|          | 0/97320 [00:00<?, ? examples/s]"
      ]
     },
     "metadata": {},
     "output_type": "display_data"
    },
    {
     "data": {
      "application/vnd.jupyter.widget-view+json": {
       "model_id": "",
       "version_major": 2,
       "version_minor": 0
      },
      "text/plain": [
       "Generating test split:   0%|          | 0/97320 [00:00<?, ? examples/s]"
      ]
     },
     "metadata": {},
     "output_type": "display_data"
    },
    {
     "name": "stdout",
     "output_type": "stream",
     "text": [
      "Dataset parquet downloaded and prepared to /Users/gabriellachronis/.cache/huggingface/datasets/parquet/civil_comments-e92c9358c47debf9/0.0.0/14a00e99c0d15a23649d0db8944380ac81082d4b021f398733dd84f3a6c569a7. Subsequent calls will reuse this data.\n"
     ]
    },
    {
     "data": {
      "application/vnd.jupyter.widget-view+json": {
       "model_id": "a33ca0bb6b0e47cd892c52f0943447d6",
       "version_major": 2,
       "version_minor": 0
      },
      "text/plain": [
       "  0%|          | 0/3 [00:00<?, ?it/s]"
      ]
     },
     "metadata": {},
     "output_type": "display_data"
    }
   ],
   "source": [
    "from datasets import load_dataset\n",
    "\n",
    "dataset = load_dataset(\"civil_comments\")"
   ]
  },
  {
   "cell_type": "code",
   "execution_count": 34,
   "id": "88eedfbc-f87a-4e90-b549-49127e70d87c",
   "metadata": {
    "tags": []
   },
   "outputs": [
    {
     "data": {
      "text/plain": [
       "{'text': \"This is so cool. It's like, 'would you want your mother to read this??' Really great idea, well done!\",\n",
       " 'toxicity': 0.0,\n",
       " 'severe_toxicity': 0.0,\n",
       " 'obscene': 0.0,\n",
       " 'threat': 0.0,\n",
       " 'insult': 0.0,\n",
       " 'identity_attack': 0.0,\n",
       " 'sexual_explicit': 0.0}"
      ]
     },
     "execution_count": 34,
     "metadata": {},
     "output_type": "execute_result"
    }
   ],
   "source": [
    "dataset[\"train\"][0]"
   ]
  },
  {
   "cell_type": "code",
   "execution_count": 35,
   "id": "c038481e-90a6-4c3d-ace4-905d33419a15",
   "metadata": {},
   "outputs": [
    {
     "data": {
      "text/plain": [
       "[\"This is so cool. It's like, 'would you want your mother to read this??' Really great idea, well done!\",\n",
       " \"Thank you!! This would make my life a lot less anxiety-inducing. Keep it up, and don't let anyone get in your way!\",\n",
       " 'This is such an urgent design problem; kudos to you for taking it on. Very impressive!',\n",
       " \"Is this something I'll be able to install on my site? When will you be releasing it?\",\n",
       " 'haha you guys are a bunch of losers.',\n",
       " 'ur a sh*tty comment.',\n",
       " 'hahahahahahahahhha suck it.',\n",
       " 'FFFFUUUUUUUUUUUUUUU',\n",
       " 'The ranchers seem motivated by mostly by greed; no one should have the right to allow their animals destroy public land.',\n",
       " \"It was a great show. Not a combo I'd of expected to be good together but it was.\"]"
      ]
     },
     "execution_count": 35,
     "metadata": {},
     "output_type": "execute_result"
    }
   ],
   "source": [
    "dataset[\"train\"][:10]['text']"
   ]
  },
  {
   "cell_type": "code",
   "execution_count": 36,
   "id": "31522630-0c67-475c-9f8f-bd8c30f78480",
   "metadata": {},
   "outputs": [],
   "source": [
    "###################################\n",
    "#########\n",
    "# predicting ratings on a dimension\n",
    "\n",
    "# ...\n",
    "# when we only have the dimension:\n",
    "# vector scalar projection\n",
    "def predict_scalarproj(veclist, dimension):\n",
    "    dir_veclen = math.sqrt(np.dot(dimension, dimension))\n",
    "    return [np.dot(v, dimension) / dir_veclen for v in veclist]"
   ]
  },
  {
   "cell_type": "markdown",
   "id": "888023fb-6553-4648-9442-0083b6325eea",
   "metadata": {},
   "source": [
    "SBERtize the Comments"
   ]
  },
  {
   "cell_type": "code",
   "execution_count": 51,
   "id": "d745b7ef-4622-491d-9dec-103ec7691319",
   "metadata": {
    "tags": []
   },
   "outputs": [],
   "source": [
    "sentence_embs = [model.encode(row) for row in dataset[\"train\"][:1000]['text']]\n"
   ]
  },
  {
   "cell_type": "markdown",
   "id": "1ec39714-7765-4483-9f13-dc5822ae0603",
   "metadata": {},
   "source": [
    "Calculate complexity "
   ]
  },
  {
   "cell_type": "code",
   "execution_count": 59,
   "id": "18ddbd7d-45f4-447d-8930-52bbd5f337da",
   "metadata": {},
   "outputs": [
    {
     "data": {
      "text/plain": [
       "[0.1866481524433775,\n",
       " 0.024915218121990622,\n",
       " 0.07795014414126437,\n",
       " 0.05866463558626613,\n",
       " 0.021552864707469758]"
      ]
     },
     "execution_count": 59,
     "metadata": {},
     "output_type": "execute_result"
    }
   ],
   "source": [
    "complexities = predict_scalarproj(sentence_embs, dimvec)\n",
    "\n",
    "# for i, emb in enumerate(sentence_embs):\n",
    "#     dataset[\"train\"][i]['complexity_computed'] = sentence_embs[i]\n",
    "#     complexities.append( sentence_embs[i] )\n",
    "\n",
    "#dataset[\"train\"][:5]\n",
    "complexities[:5]"
   ]
  },
  {
   "cell_type": "markdown",
   "id": "c18107ec-be8d-4c85-80c5-5db376ff89be",
   "metadata": {},
   "source": [
    "Retrieve gold toxicity score"
   ]
  },
  {
   "cell_type": "code",
   "execution_count": 66,
   "id": "df176d86-9de6-41ea-81b9-424f1479e233",
   "metadata": {},
   "outputs": [],
   "source": [
    "toxicity_scores = dataset[\"train\"][:1000]['toxicity']"
   ]
  },
  {
   "cell_type": "code",
   "execution_count": 67,
   "id": "a51e6f45-ea73-4c7f-bc55-36ca5b3dfa75",
   "metadata": {},
   "outputs": [
    {
     "data": {
      "text/plain": [
       "[\"This is so cool. It's like, 'would you want your mother to read this??' Really great idea, well done!\",\n",
       " \"Thank you!! This would make my life a lot less anxiety-inducing. Keep it up, and don't let anyone get in your way!\",\n",
       " 'This is such an urgent design problem; kudos to you for taking it on. Very impressive!',\n",
       " \"Is this something I'll be able to install on my site? When will you be releasing it?\",\n",
       " 'haha you guys are a bunch of losers.',\n",
       " 'ur a sh*tty comment.',\n",
       " 'hahahahahahahahhha suck it.',\n",
       " 'FFFFUUUUUUUUUUUUUUU',\n",
       " 'The ranchers seem motivated by mostly by greed; no one should have the right to allow their animals destroy public land.',\n",
       " \"It was a great show. Not a combo I'd of expected to be good together but it was.\"]"
      ]
     },
     "execution_count": 67,
     "metadata": {},
     "output_type": "execute_result"
    }
   ],
   "source": [
    "dataset[\"train\"][:10]['text']"
   ]
  },
  {
   "cell_type": "code",
   "execution_count": 65,
   "id": "aeb23d3c-2b86-4fbe-8548-7c3e558d95c7",
   "metadata": {},
   "outputs": [],
   "source": [
    "import numpy as np\n",
    "import pandas as pd\n",
    "import matplotlib.pyplot as plt\n",
    "import seaborn as sns\n",
    "sns.set_theme(style=\"darkgrid\")"
   ]
  },
  {
   "cell_type": "code",
   "execution_count": 71,
   "id": "b2fa1840-1582-4aa4-b019-238bc767c61b",
   "metadata": {},
   "outputs": [
    {
     "data": {
      "text/plain": [
       "Text(0, 0.5, 'toxicity')"
      ]
     },
     "execution_count": 71,
     "metadata": {},
     "output_type": "execute_result"
    },
    {
     "data": {
      "image/png": "[encoded data removed]",
      "text/plain": [
       "<Figure size 640x480 with 1 Axes>"
      ]
     },
     "metadata": {},
     "output_type": "display_data"
    }
   ],
   "source": [
    "sns.regplot(x=complexities, y=toxicity_scores)\n",
    "plt.xlabel(\"complexity\")\n",
    "plt.ylabel(\"toxicity\")"
   ]
  },
  {
   "cell_type": "code",
   "execution_count": 64,
   "id": "963a258f-5c0b-4166-a6ee-633a6a684ccf",
   "metadata": {},
   "outputs": [
    {
     "data": {
      "text/plain": [
       "PearsonRResult(statistic=-0.09896626191154356, pvalue=0.0017281219504836492)"
      ]
     },
     "execution_count": 64,
     "metadata": {},
     "output_type": "execute_result"
    }
   ],
   "source": [
    "import numpy as np\n",
    "import scipy.stats\n",
    "\n",
    "scipy.stats.pearsonr(complexities, scores)    # Pearson's r"
   ]
  },
  {
   "cell_type": "markdown",
   "id": "adf84699-2e04-44cb-9ada-861176f61aff",
   "metadata": {},
   "source": [
    "Complexity and toxicity are negatively correlated, as predicted. As complexity increases, toxicity decreases. "
   ]
  },
  {
   "cell_type": "code",
   "execution_count": null,
   "id": "e06aa3fe-7a4e-4a68-b58f-c3f7db9e9307",
   "metadata": {},
   "outputs": [],
   "source": []
  }
 ],
 "metadata": {
  "kernelspec": {
   "display_name": "Python 3 (ipykernel)",
   "language": "python",
   "name": "python3"
  },
  "language_info": {
   "codemirror_mode": {
    "name": "ipython",
    "version": 3
   },
   "file_extension": ".py",
   "mimetype": "text/x-python",
   "name": "python",
   "nbconvert_exporter": "python",
   "pygments_lexer": "ipython3",
   "version": "3.11.6"
  }
 },
 "nbformat": 4,
 "nbformat_minor": 5
}
